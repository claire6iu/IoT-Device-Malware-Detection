{
 "cells": [
  {
   "cell_type": "markdown",
   "metadata": {
    "application/vnd.databricks.v1+cell": {
     "cellMetadata": {
      "byteLimit": 2048000,
      "rowLimit": 10000
     },
     "inputWidgets": {},
     "nuid": "ac40e689-10e8-4a21-a203-9c43b535656d",
     "showTitle": false,
     "title": ""
    }
   },
   "source": [
    "Since we donot have permission to save data in dbsf, using google drive to download the zip file of data then work on it"
   ]
  },
  {
   "cell_type": "code",
   "execution_count": 0,
   "metadata": {
    "application/vnd.databricks.v1+cell": {
     "cellMetadata": {
      "byteLimit": 2048000,
      "rowLimit": 10000
     },
     "inputWidgets": {},
     "nuid": "4a6a0951-d759-4a75-a67b-5309494b2359",
     "showTitle": false,
     "title": ""
    }
   },
   "outputs": [
    {
     "output_type": "stream",
     "name": "stdout",
     "output_type": "stream",
     "text": [
      "gdown is not installed. Installing it now...\ngdown has been successfully installed.\n"
     ]
    },
    {
     "output_type": "display_data",
     "data": {
      "application/vnd.databricks.v1+bamboolib_hint": "{\"pd.DataFrames\": [], \"version\": \"0.0.1\"}",
      "text/plain": []
     },
     "metadata": {},
     "output_type": "display_data"
    },
    {
     "output_type": "stream",
     "name": "stdout",
     "output_type": "stream",
     "text": [
      "sparkxgb is not installed. Installing it now...\nsparkxgb has been successfully installed.\n"
     ]
    }
   ],
   "source": [
    "try:\n",
    "    import gdown\n",
    "    print(\"gdown is installed.\")\n",
    "except ImportError:\n",
    "    print(\"gdown is not installed. Installing it now...\")\n",
    "    try:\n",
    "        import subprocess\n",
    "        subprocess.check_call([\"pip\", \"install\", \"gdown\"])\n",
    "        print(\"gdown has been successfully installed.\")\n",
    "        import gdown  # Importing again to use it after installation\n",
    "    except Exception as e:\n",
    "        print(f\"Error installing gdown: {e}\")\n",
    "\n",
    "\n",
    "from pyspark.ml.feature import VectorAssembler,VectorIndexer, OneHotEncoder,StringIndexer\n",
    "from pyspark.sql.functions import when, col\n",
    "\n",
    "import pandas as pd\n",
    "import numpy as np\n",
    "\n",
    "try:\n",
    "    from xgboost.spark import SparkXGBClassifier\n",
    "    print(\"sparkxgb is installed.\")\n",
    "except ImportError:\n",
    "    print(\"sparkxgb is not installed. Installing it now...\")\n",
    "    try:\n",
    "        import subprocess\n",
    "        command = \"pip install pyarrow pandas venv-pack xgboost\"\n",
    "        subprocess.run(command, shell=True, check=True)\n",
    "        print(\"sparkxgb has been successfully installed.\")\n",
    "        from xgboost.spark import SparkXGBClassifier\n",
    "    except Exception as e:\n",
    "        print(f\"Error installing sparkxgb: {e}\")\n",
    "\n",
    "from pyspark.ml.classification import LogisticRegression\n",
    "from pyspark.sql.types import FloatType, IntegerType\n",
    "from pyspark.ml.feature import VectorAssembler,VectorIndexer, OneHotEncoder,StringIndexer\n",
    "from pyspark.ml import Pipeline\n",
    "from pyspark.ml.evaluation import BinaryClassificationEvaluator\n",
    "from pyspark.ml.evaluation import MulticlassClassificationEvaluator\n",
    "\n"
   ]
  },
  {
   "cell_type": "code",
   "execution_count": 0,
   "metadata": {
    "application/vnd.databricks.v1+cell": {
     "cellMetadata": {
      "byteLimit": 2048000,
      "rowLimit": 10000
     },
     "inputWidgets": {},
     "nuid": "44d22018-2977-4db9-a718-50d18957f56a",
     "showTitle": false,
     "title": ""
    }
   },
   "outputs": [],
   "source": [
    "%%bash\n",
    "#rm -r Trends_market_place_data\n",
    "# Replace 'YOUR_FILE_ID' with the actual file ID from the Google Drive link\n",
    "#file_id=\"1SznHDvix3NdpmiIloyDxeAjiFtY-nk38\"\n",
    "\n",
    "# Replace 'output_file.zip' with the desired output file name\n",
    "#output_file=\"Trends_market_place_data.zip\"\n",
    "\n",
    "# Download the file from Google Drive using gdown\n",
    "#gdown \"https://drive.google.com/uc?id=${file_id}\" -O \"${output_file}\"\n",
    "\n",
    "#unzip Trends_market_place_data.zip\n",
    "#rm -f Trends_market_place_data.zip\n",
    "#rm -rf __MACOSX"
   ]
  },
  {
   "cell_type": "code",
   "execution_count": 0,
   "metadata": {
    "application/vnd.databricks.v1+cell": {
     "cellMetadata": {
      "byteLimit": 2048000,
      "rowLimit": 10000
     },
     "inputWidgets": {},
     "nuid": "0c8af7fc-a6e7-4d21-be27-014e944274a6",
     "showTitle": false,
     "title": ""
    }
   },
   "outputs": [
    {
     "output_type": "display_data",
     "data": {
      "text/html": [
       "<div>\n",
       "<style scoped>\n",
       "    .dataframe tbody tr th:only-of-type {\n",
       "        vertical-align: middle;\n",
       "    }\n",
       "\n",
       "    .dataframe tbody tr th {\n",
       "        vertical-align: top;\n",
       "    }\n",
       "\n",
       "    .dataframe thead th {\n",
       "        text-align: right;\n",
       "    }\n",
       "</style>\n",
       "<table border=\"1\" class=\"dataframe\">\n",
       "  <thead>\n",
       "    <tr style=\"text-align: right;\">\n",
       "      <th></th>\n",
       "      <th>ts</th>\n",
       "      <th>uid</th>\n",
       "      <th>id.orig_h</th>\n",
       "      <th>id.orig_p</th>\n",
       "      <th>id.resp_h</th>\n",
       "      <th>id.resp_p</th>\n",
       "      <th>proto</th>\n",
       "      <th>service</th>\n",
       "      <th>duration</th>\n",
       "      <th>orig_bytes</th>\n",
       "      <th>...</th>\n",
       "      <th>local_resp</th>\n",
       "      <th>missed_bytes</th>\n",
       "      <th>history</th>\n",
       "      <th>orig_pkts</th>\n",
       "      <th>orig_ip_bytes</th>\n",
       "      <th>resp_pkts</th>\n",
       "      <th>resp_ip_bytes</th>\n",
       "      <th>tunnel_parents</th>\n",
       "      <th>label</th>\n",
       "      <th>detailed-label</th>\n",
       "    </tr>\n",
       "  </thead>\n",
       "  <tbody>\n",
       "    <tr>\n",
       "      <th>0</th>\n",
       "      <td>1.525880e+09</td>\n",
       "      <td>CUmrqr4svHuSXJy5z7</td>\n",
       "      <td>192.168.100.103</td>\n",
       "      <td>51524.0</td>\n",
       "      <td>65.127.233.163</td>\n",
       "      <td>23.0</td>\n",
       "      <td>tcp</td>\n",
       "      <td>-</td>\n",
       "      <td>2.999051</td>\n",
       "      <td>0</td>\n",
       "      <td>...</td>\n",
       "      <td>-</td>\n",
       "      <td>0.0</td>\n",
       "      <td>S</td>\n",
       "      <td>3.0</td>\n",
       "      <td>180.0</td>\n",
       "      <td>0.0</td>\n",
       "      <td>0.0</td>\n",
       "      <td>-</td>\n",
       "      <td>Malicious</td>\n",
       "      <td>PartOfAHorizontalPortScan</td>\n",
       "    </tr>\n",
       "    <tr>\n",
       "      <th>1</th>\n",
       "      <td>1.525880e+09</td>\n",
       "      <td>CH98aB3s1kJeq6SFOc</td>\n",
       "      <td>192.168.100.103</td>\n",
       "      <td>56305.0</td>\n",
       "      <td>63.150.16.171</td>\n",
       "      <td>23.0</td>\n",
       "      <td>tcp</td>\n",
       "      <td>-</td>\n",
       "      <td>-</td>\n",
       "      <td>-</td>\n",
       "      <td>...</td>\n",
       "      <td>-</td>\n",
       "      <td>0.0</td>\n",
       "      <td>S</td>\n",
       "      <td>1.0</td>\n",
       "      <td>60.0</td>\n",
       "      <td>0.0</td>\n",
       "      <td>0.0</td>\n",
       "      <td>-</td>\n",
       "      <td>Malicious</td>\n",
       "      <td>PartOfAHorizontalPortScan</td>\n",
       "    </tr>\n",
       "    <tr>\n",
       "      <th>2</th>\n",
       "      <td>1.525880e+09</td>\n",
       "      <td>C3GBTkINvXNjVGtN5</td>\n",
       "      <td>192.168.100.103</td>\n",
       "      <td>41101.0</td>\n",
       "      <td>111.40.23.49</td>\n",
       "      <td>23.0</td>\n",
       "      <td>tcp</td>\n",
       "      <td>-</td>\n",
       "      <td>-</td>\n",
       "      <td>-</td>\n",
       "      <td>...</td>\n",
       "      <td>-</td>\n",
       "      <td>0.0</td>\n",
       "      <td>S</td>\n",
       "      <td>1.0</td>\n",
       "      <td>60.0</td>\n",
       "      <td>0.0</td>\n",
       "      <td>0.0</td>\n",
       "      <td>-</td>\n",
       "      <td>Malicious</td>\n",
       "      <td>PartOfAHorizontalPortScan</td>\n",
       "    </tr>\n",
       "    <tr>\n",
       "      <th>3</th>\n",
       "      <td>1.525880e+09</td>\n",
       "      <td>CDe43c1PtgynajGI6</td>\n",
       "      <td>192.168.100.103</td>\n",
       "      <td>60905.0</td>\n",
       "      <td>131.174.215.147</td>\n",
       "      <td>23.0</td>\n",
       "      <td>tcp</td>\n",
       "      <td>-</td>\n",
       "      <td>2.998796</td>\n",
       "      <td>0</td>\n",
       "      <td>...</td>\n",
       "      <td>-</td>\n",
       "      <td>0.0</td>\n",
       "      <td>S</td>\n",
       "      <td>3.0</td>\n",
       "      <td>180.0</td>\n",
       "      <td>0.0</td>\n",
       "      <td>0.0</td>\n",
       "      <td>-</td>\n",
       "      <td>Malicious</td>\n",
       "      <td>PartOfAHorizontalPortScan</td>\n",
       "    </tr>\n",
       "    <tr>\n",
       "      <th>4</th>\n",
       "      <td>1.525880e+09</td>\n",
       "      <td>CJaDcG3MZzvf1YVYI4</td>\n",
       "      <td>192.168.100.103</td>\n",
       "      <td>44301.0</td>\n",
       "      <td>91.42.47.63</td>\n",
       "      <td>23.0</td>\n",
       "      <td>tcp</td>\n",
       "      <td>-</td>\n",
       "      <td>-</td>\n",
       "      <td>-</td>\n",
       "      <td>...</td>\n",
       "      <td>-</td>\n",
       "      <td>0.0</td>\n",
       "      <td>S</td>\n",
       "      <td>1.0</td>\n",
       "      <td>60.0</td>\n",
       "      <td>0.0</td>\n",
       "      <td>0.0</td>\n",
       "      <td>-</td>\n",
       "      <td>Malicious</td>\n",
       "      <td>PartOfAHorizontalPortScan</td>\n",
       "    </tr>\n",
       "  </tbody>\n",
       "</table>\n",
       "<p>5 rows × 23 columns</p>\n",
       "</div>"
      ]
     },
     "metadata": {
      "application/vnd.databricks.v1+output": {
       "addedWidgets": {},
       "arguments": {},
       "data": "<div>\n<style scoped>\n    .dataframe tbody tr th:only-of-type {\n        vertical-align: middle;\n    }\n\n    .dataframe tbody tr th {\n        vertical-align: top;\n    }\n\n    .dataframe thead th {\n        text-align: right;\n    }\n</style>\n<table border=\"1\" class=\"dataframe\">\n  <thead>\n    <tr style=\"text-align: right;\">\n      <th></th>\n      <th>ts</th>\n      <th>uid</th>\n      <th>id.orig_h</th>\n      <th>id.orig_p</th>\n      <th>id.resp_h</th>\n      <th>id.resp_p</th>\n      <th>proto</th>\n      <th>service</th>\n      <th>duration</th>\n      <th>orig_bytes</th>\n      <th>...</th>\n      <th>local_resp</th>\n      <th>missed_bytes</th>\n      <th>history</th>\n      <th>orig_pkts</th>\n      <th>orig_ip_bytes</th>\n      <th>resp_pkts</th>\n      <th>resp_ip_bytes</th>\n      <th>tunnel_parents</th>\n      <th>label</th>\n      <th>detailed-label</th>\n    </tr>\n  </thead>\n  <tbody>\n    <tr>\n      <th>0</th>\n      <td>1.525880e+09</td>\n      <td>CUmrqr4svHuSXJy5z7</td>\n      <td>192.168.100.103</td>\n      <td>51524.0</td>\n      <td>65.127.233.163</td>\n      <td>23.0</td>\n      <td>tcp</td>\n      <td>-</td>\n      <td>2.999051</td>\n      <td>0</td>\n      <td>...</td>\n      <td>-</td>\n      <td>0.0</td>\n      <td>S</td>\n      <td>3.0</td>\n      <td>180.0</td>\n      <td>0.0</td>\n      <td>0.0</td>\n      <td>-</td>\n      <td>Malicious</td>\n      <td>PartOfAHorizontalPortScan</td>\n    </tr>\n    <tr>\n      <th>1</th>\n      <td>1.525880e+09</td>\n      <td>CH98aB3s1kJeq6SFOc</td>\n      <td>192.168.100.103</td>\n      <td>56305.0</td>\n      <td>63.150.16.171</td>\n      <td>23.0</td>\n      <td>tcp</td>\n      <td>-</td>\n      <td>-</td>\n      <td>-</td>\n      <td>...</td>\n      <td>-</td>\n      <td>0.0</td>\n      <td>S</td>\n      <td>1.0</td>\n      <td>60.0</td>\n      <td>0.0</td>\n      <td>0.0</td>\n      <td>-</td>\n      <td>Malicious</td>\n      <td>PartOfAHorizontalPortScan</td>\n    </tr>\n    <tr>\n      <th>2</th>\n      <td>1.525880e+09</td>\n      <td>C3GBTkINvXNjVGtN5</td>\n      <td>192.168.100.103</td>\n      <td>41101.0</td>\n      <td>111.40.23.49</td>\n      <td>23.0</td>\n      <td>tcp</td>\n      <td>-</td>\n      <td>-</td>\n      <td>-</td>\n      <td>...</td>\n      <td>-</td>\n      <td>0.0</td>\n      <td>S</td>\n      <td>1.0</td>\n      <td>60.0</td>\n      <td>0.0</td>\n      <td>0.0</td>\n      <td>-</td>\n      <td>Malicious</td>\n      <td>PartOfAHorizontalPortScan</td>\n    </tr>\n    <tr>\n      <th>3</th>\n      <td>1.525880e+09</td>\n      <td>CDe43c1PtgynajGI6</td>\n      <td>192.168.100.103</td>\n      <td>60905.0</td>\n      <td>131.174.215.147</td>\n      <td>23.0</td>\n      <td>tcp</td>\n      <td>-</td>\n      <td>2.998796</td>\n      <td>0</td>\n      <td>...</td>\n      <td>-</td>\n      <td>0.0</td>\n      <td>S</td>\n      <td>3.0</td>\n      <td>180.0</td>\n      <td>0.0</td>\n      <td>0.0</td>\n      <td>-</td>\n      <td>Malicious</td>\n      <td>PartOfAHorizontalPortScan</td>\n    </tr>\n    <tr>\n      <th>4</th>\n      <td>1.525880e+09</td>\n      <td>CJaDcG3MZzvf1YVYI4</td>\n      <td>192.168.100.103</td>\n      <td>44301.0</td>\n      <td>91.42.47.63</td>\n      <td>23.0</td>\n      <td>tcp</td>\n      <td>-</td>\n      <td>-</td>\n      <td>-</td>\n      <td>...</td>\n      <td>-</td>\n      <td>0.0</td>\n      <td>S</td>\n      <td>1.0</td>\n      <td>60.0</td>\n      <td>0.0</td>\n      <td>0.0</td>\n      <td>-</td>\n      <td>Malicious</td>\n      <td>PartOfAHorizontalPortScan</td>\n    </tr>\n  </tbody>\n</table>\n<p>5 rows × 23 columns</p>\n</div>",
       "datasetInfos": [],
       "metadata": {},
       "removedWidgets": [],
       "textData": null,
       "type": "htmlSandbox"
      }
     },
     "output_type": "display_data"
    }
   ],
   "source": [
    "# Creating spark dataframre from csv files:\n",
    "\n",
    "# Define the folder path containing CSV files\n",
    "folder_path = \"file:/databricks/driver/Trends_market_place_data\"\n",
    "\n",
    "# Read all CSV files in the folder into a DataFrame\n",
    "network_labelled_data = spark.read.option(\"header\", \"true\").option(\"delimiter\", \"|\").option(\"inferschema\", \"true\").csv(folder_path + \"/*.csv\")\n",
    "\n",
    "# Show the DataFrame\n",
    "network_labelled_data.limit(5).toPandas()"
   ]
  },
  {
   "cell_type": "code",
   "execution_count": 0,
   "metadata": {
    "application/vnd.databricks.v1+cell": {
     "cellMetadata": {
      "byteLimit": 2048000,
      "rowLimit": 10000
     },
     "inputWidgets": {},
     "nuid": "f65eede0-33e8-41be-b5c1-04cad4f09a35",
     "showTitle": false,
     "title": ""
    }
   },
   "outputs": [],
   "source": [
    "#Processing data\n",
    "columns_to_remove = [0, 1, 2, 4, 12, 13, 14, 20, 22]\n",
    "columns_to_drop = [network_labelled_data.columns[i] for i in columns_to_remove]\n",
    "\n",
    "# Drop the specified columns\n",
    "df_without_columns = network_labelled_data.drop(*columns_to_drop)\n",
    "\n",
    "# Define the transformation using when\n",
    "df_without_columns = df_without_columns.withColumn(\n",
    "    \"Malicious\", \n",
    "    when(col(\"label\") == \"Benign\", 0).otherwise(1)\n",
    ")\n",
    "\n",
    "# Drop the original label column if needed\n",
    "df_without_columns = df_without_columns.drop(\"label\")\n",
    "\n",
    "# Columns to transform\n",
    "columns_to_transform = [3, 4, 5, 6, 8]\n",
    "columns_to_transform = [df_without_columns.columns[i] for i in columns_to_transform]\n",
    "\n",
    "# Columns to put 0 if '-'\n",
    "zeros = [4, 5, 6]\n",
    "zeros = [df_without_columns.columns[i] for i in zeros]\n",
    "\n",
    "# Replace '-'\n",
    "for column in zeros:\n",
    "    df_without_columns = df_without_columns.withColumn(\n",
    "        column,\n",
    "        when((col(column) == \"-\") , 0).otherwise(col(column)),\n",
    "    )\n",
    "\n",
    "# Columns to convert to float\n",
    "columns_to_convert_to_float = [4]\n",
    "columns_to_convert_to_float = [df_without_columns.columns[i] for i in columns_to_convert_to_float]\n",
    "\n",
    "for column in columns_to_convert_to_float:\n",
    "    df_without_columns = df_without_columns.withColumn(column, col(column).cast(FloatType()))\n",
    "\n",
    "# Columns to convert to int\n",
    "column_mapping_convert = [0, 1]\n",
    "column_mapping_convert = [df_without_columns.columns[i] for i in column_mapping_convert]\n",
    "\n",
    "# Define the mapping for column renaming\n",
    "column_mapping = {\n",
    "    column_mapping_convert[0]: \"id_orig_p\",\n",
    "    column_mapping_convert[1]: \"id_resp_p\",\n",
    "}\n",
    "\n",
    "# Rename columns using withColumnRenamed\n",
    "for old_col, new_col in column_mapping.items():\n",
    "    df_without_columns = df_without_columns.withColumnRenamed(old_col, new_col)\n",
    "\n",
    "\n",
    "# Columns to convert to int\n",
    "columns_to_convert_to_int = [0, 1, 5, 6, 9, 10, 11]\n",
    "columns_to_convert_to_int = [df_without_columns.columns[i] for i in columns_to_convert_to_int]\n",
    "\n",
    "\n",
    "# Remove rows where the first column contains an IP address\n",
    "df_without_columns = df_without_columns.filter(~col(columns_to_convert_to_int[0]).rlike(r\"\\d{1,3}\\.\\d{1,3}\\.\\d{1,3}\\.\\d{1,3}\"))\n",
    "\n",
    "for column in columns_to_convert_to_int:\n",
    "    df_without_columns = df_without_columns.withColumn(column, col(column).cast(IntegerType()))\n"
   ]
  },
  {
   "cell_type": "code",
   "execution_count": 0,
   "metadata": {
    "application/vnd.databricks.v1+cell": {
     "cellMetadata": {
      "byteLimit": 2048000,
      "rowLimit": 10000
     },
     "inputWidgets": {},
     "nuid": "5b57c08b-ab21-425b-8c81-d155ca39d0de",
     "showTitle": false,
     "title": ""
    }
   },
   "outputs": [
    {
     "output_type": "display_data",
     "data": {
      "text/html": [
       "<div>\n",
       "<style scoped>\n",
       "    .dataframe tbody tr th:only-of-type {\n",
       "        vertical-align: middle;\n",
       "    }\n",
       "\n",
       "    .dataframe tbody tr th {\n",
       "        vertical-align: top;\n",
       "    }\n",
       "\n",
       "    .dataframe thead th {\n",
       "        text-align: right;\n",
       "    }\n",
       "</style>\n",
       "<table border=\"1\" class=\"dataframe\">\n",
       "  <thead>\n",
       "    <tr style=\"text-align: right;\">\n",
       "      <th></th>\n",
       "      <th>id_orig_p</th>\n",
       "      <th>id_resp_p</th>\n",
       "      <th>proto</th>\n",
       "      <th>service</th>\n",
       "      <th>duration</th>\n",
       "      <th>orig_bytes</th>\n",
       "      <th>resp_bytes</th>\n",
       "      <th>conn_state</th>\n",
       "      <th>history</th>\n",
       "      <th>orig_pkts</th>\n",
       "      <th>orig_ip_bytes</th>\n",
       "      <th>resp_pkts</th>\n",
       "      <th>resp_ip_bytes</th>\n",
       "      <th>Malicious</th>\n",
       "    </tr>\n",
       "  </thead>\n",
       "  <tbody>\n",
       "    <tr>\n",
       "      <th>0</th>\n",
       "      <td>59932</td>\n",
       "      <td>80</td>\n",
       "      <td>tcp</td>\n",
       "      <td>-</td>\n",
       "      <td>3.097754</td>\n",
       "      <td>0</td>\n",
       "      <td>0</td>\n",
       "      <td>S0</td>\n",
       "      <td>S</td>\n",
       "      <td>3</td>\n",
       "      <td>180</td>\n",
       "      <td>0</td>\n",
       "      <td>0.0</td>\n",
       "      <td>1</td>\n",
       "    </tr>\n",
       "    <tr>\n",
       "      <th>1</th>\n",
       "      <td>59932</td>\n",
       "      <td>80</td>\n",
       "      <td>tcp</td>\n",
       "      <td>-</td>\n",
       "      <td>0.000000</td>\n",
       "      <td>0</td>\n",
       "      <td>0</td>\n",
       "      <td>S0</td>\n",
       "      <td>S</td>\n",
       "      <td>1</td>\n",
       "      <td>60</td>\n",
       "      <td>0</td>\n",
       "      <td>0.0</td>\n",
       "      <td>1</td>\n",
       "    </tr>\n",
       "    <tr>\n",
       "      <th>2</th>\n",
       "      <td>59932</td>\n",
       "      <td>80</td>\n",
       "      <td>tcp</td>\n",
       "      <td>-</td>\n",
       "      <td>0.000000</td>\n",
       "      <td>0</td>\n",
       "      <td>0</td>\n",
       "      <td>S0</td>\n",
       "      <td>S</td>\n",
       "      <td>1</td>\n",
       "      <td>60</td>\n",
       "      <td>0</td>\n",
       "      <td>0.0</td>\n",
       "      <td>1</td>\n",
       "    </tr>\n",
       "    <tr>\n",
       "      <th>3</th>\n",
       "      <td>35883</td>\n",
       "      <td>53</td>\n",
       "      <td>udp</td>\n",
       "      <td>dns</td>\n",
       "      <td>5.005148</td>\n",
       "      <td>78</td>\n",
       "      <td>0</td>\n",
       "      <td>S0</td>\n",
       "      <td>D</td>\n",
       "      <td>2</td>\n",
       "      <td>134</td>\n",
       "      <td>0</td>\n",
       "      <td>0.0</td>\n",
       "      <td>0</td>\n",
       "    </tr>\n",
       "    <tr>\n",
       "      <th>4</th>\n",
       "      <td>43531</td>\n",
       "      <td>53</td>\n",
       "      <td>udp</td>\n",
       "      <td>dns</td>\n",
       "      <td>5.005145</td>\n",
       "      <td>78</td>\n",
       "      <td>0</td>\n",
       "      <td>S0</td>\n",
       "      <td>D</td>\n",
       "      <td>2</td>\n",
       "      <td>134</td>\n",
       "      <td>0</td>\n",
       "      <td>0.0</td>\n",
       "      <td>0</td>\n",
       "    </tr>\n",
       "  </tbody>\n",
       "</table>\n",
       "</div>"
      ]
     },
     "metadata": {
      "application/vnd.databricks.v1+output": {
       "addedWidgets": {},
       "arguments": {},
       "data": "<div>\n<style scoped>\n    .dataframe tbody tr th:only-of-type {\n        vertical-align: middle;\n    }\n\n    .dataframe tbody tr th {\n        vertical-align: top;\n    }\n\n    .dataframe thead th {\n        text-align: right;\n    }\n</style>\n<table border=\"1\" class=\"dataframe\">\n  <thead>\n    <tr style=\"text-align: right;\">\n      <th></th>\n      <th>id_orig_p</th>\n      <th>id_resp_p</th>\n      <th>proto</th>\n      <th>service</th>\n      <th>duration</th>\n      <th>orig_bytes</th>\n      <th>resp_bytes</th>\n      <th>conn_state</th>\n      <th>history</th>\n      <th>orig_pkts</th>\n      <th>orig_ip_bytes</th>\n      <th>resp_pkts</th>\n      <th>resp_ip_bytes</th>\n      <th>Malicious</th>\n    </tr>\n  </thead>\n  <tbody>\n    <tr>\n      <th>0</th>\n      <td>59932</td>\n      <td>80</td>\n      <td>tcp</td>\n      <td>-</td>\n      <td>3.097754</td>\n      <td>0</td>\n      <td>0</td>\n      <td>S0</td>\n      <td>S</td>\n      <td>3</td>\n      <td>180</td>\n      <td>0</td>\n      <td>0.0</td>\n      <td>1</td>\n    </tr>\n    <tr>\n      <th>1</th>\n      <td>59932</td>\n      <td>80</td>\n      <td>tcp</td>\n      <td>-</td>\n      <td>0.000000</td>\n      <td>0</td>\n      <td>0</td>\n      <td>S0</td>\n      <td>S</td>\n      <td>1</td>\n      <td>60</td>\n      <td>0</td>\n      <td>0.0</td>\n      <td>1</td>\n    </tr>\n    <tr>\n      <th>2</th>\n      <td>59932</td>\n      <td>80</td>\n      <td>tcp</td>\n      <td>-</td>\n      <td>0.000000</td>\n      <td>0</td>\n      <td>0</td>\n      <td>S0</td>\n      <td>S</td>\n      <td>1</td>\n      <td>60</td>\n      <td>0</td>\n      <td>0.0</td>\n      <td>1</td>\n    </tr>\n    <tr>\n      <th>3</th>\n      <td>35883</td>\n      <td>53</td>\n      <td>udp</td>\n      <td>dns</td>\n      <td>5.005148</td>\n      <td>78</td>\n      <td>0</td>\n      <td>S0</td>\n      <td>D</td>\n      <td>2</td>\n      <td>134</td>\n      <td>0</td>\n      <td>0.0</td>\n      <td>0</td>\n    </tr>\n    <tr>\n      <th>4</th>\n      <td>43531</td>\n      <td>53</td>\n      <td>udp</td>\n      <td>dns</td>\n      <td>5.005145</td>\n      <td>78</td>\n      <td>0</td>\n      <td>S0</td>\n      <td>D</td>\n      <td>2</td>\n      <td>134</td>\n      <td>0</td>\n      <td>0.0</td>\n      <td>0</td>\n    </tr>\n  </tbody>\n</table>\n</div>",
       "datasetInfos": [],
       "metadata": {},
       "removedWidgets": [],
       "textData": null,
       "type": "htmlSandbox"
      }
     },
     "output_type": "display_data"
    }
   ],
   "source": [
    "# Show the transformed DataFrame\n",
    "df_without_columns.limit(5).toPandas()\n"
   ]
  },
  {
   "cell_type": "code",
   "execution_count": 0,
   "metadata": {
    "application/vnd.databricks.v1+cell": {
     "cellMetadata": {
      "byteLimit": 2048000,
      "rowLimit": 10000
     },
     "inputWidgets": {},
     "nuid": "270e84f3-a8f1-4f00-9016-299db8ce90dd",
     "showTitle": false,
     "title": ""
    }
   },
   "outputs": [],
   "source": [
    "si = StringIndexer(inputCols=['proto', 'service', 'conn_state', 'history'],outputCols=['proto_idx','service_idx', 'conn_state_idx', 'history_idx'], handleInvalid = \"keep\")\n",
    "ohe = OneHotEncoder(inputCols=['proto_idx','service_idx', 'conn_state_idx', 'history_idx'],outputCols=['proto_ohe','service_ohe', 'conn_state_ohe', 'history_ohe'])\n",
    "\n",
    "#df_without_columns_si = si.fit(df_without_columns).transform(df_without_columns)\n",
    "#df_without_columns_si.limit(5).display()"
   ]
  },
  {
   "cell_type": "code",
   "execution_count": 0,
   "metadata": {
    "application/vnd.databricks.v1+cell": {
     "cellMetadata": {
      "byteLimit": 2048000,
      "rowLimit": 10000
     },
     "inputWidgets": {},
     "nuid": "4392be8e-ca46-4d96-ae3d-298c9bdcecd5",
     "showTitle": false,
     "title": ""
    }
   },
   "outputs": [],
   "source": [
    "#df_without_columns_ohe = ohe.fit(df_without_columns_si).transform(df_without_columns_si)\n",
    "#df_without_columns_ohe.limit(5).display()"
   ]
  },
  {
   "cell_type": "code",
   "execution_count": 0,
   "metadata": {
    "application/vnd.databricks.v1+cell": {
     "cellMetadata": {
      "byteLimit": 2048000,
      "rowLimit": 10000
     },
     "inputWidgets": {},
     "nuid": "e839e90a-7a8d-42e1-b793-b9a11fa4ee72",
     "showTitle": false,
     "title": ""
    }
   },
   "outputs": [],
   "source": [
    "va = VectorAssembler(inputCols=['proto_ohe','service_ohe', 'conn_state_ohe', 'history_ohe',\n",
    " 'id_resp_p', 'id_orig_p', 'duration','orig_bytes', 'resp_bytes', 'orig_pkts', 'orig_ip_bytes', 'resp_pkts', 'resp_ip_bytes' ],outputCol='features', handleInvalid = \"skip\")\n",
    "\n",
    "\n",
    "lr = LogisticRegression(featuresCol='features',labelCol='Malicious')\n",
    "\n",
    "\n",
    "xgb = SparkXGBClassifier(\n",
    "  features_col=\"features\",\n",
    "  label_col=\"Malicious\",\n",
    "  num_workers=2\n",
    ")\n",
    "\n",
    "\n",
    "\n",
    "pl = Pipeline(stages=[si,ohe,va,xgb])"
   ]
  },
  {
   "cell_type": "code",
   "execution_count": 0,
   "metadata": {
    "application/vnd.databricks.v1+cell": {
     "cellMetadata": {
      "byteLimit": 2048000,
      "rowLimit": 10000
     },
     "inputWidgets": {},
     "nuid": "ee7ea94f-2ff5-4867-bab0-c7b8d890d482",
     "showTitle": false,
     "title": ""
    }
   },
   "outputs": [
    {
     "output_type": "stream",
     "name": "stdout",
     "output_type": "stream",
     "text": [
      "train size 24875782 test size 124818\n"
     ]
    }
   ],
   "source": [
    "train, test = df_without_columns.randomSplit([0.005,.995], seed=0)\n",
    "\n",
    "print(\"train size {} test size {}\".format(train.count(),test.count()))\n",
    "\n"
   ]
  },
  {
   "cell_type": "code",
   "execution_count": 0,
   "metadata": {
    "application/vnd.databricks.v1+cell": {
     "cellMetadata": {
      "byteLimit": 2048000,
      "rowLimit": 10000
     },
     "inputWidgets": {},
     "nuid": "70fd3623-4256-474e-83ac-c149bb5fd84a",
     "showTitle": false,
     "title": ""
    }
   },
   "outputs": [
    {
     "output_type": "stream",
     "name": "stderr",
     "output_type": "stream",
     "text": [
      "2023-12-02 15:17:16,573 INFO XGBoost-PySpark: _fit Running xgboost-2.0.2 on 2 workers with\n\tbooster params: {'objective': 'binary:logistic', 'device': 'cpu', 'nthread': 1}\n\ttrain_call_kwargs_params: {'verbose_eval': True, 'num_boost_round': 100}\n\tdmatrix_kwargs: {'nthread': 1, 'missing': nan}\n2023-12-02 15:21:35,489 INFO XGBoost-PySpark: _fit Finished xgboost training!\n"
     ]
    }
   ],
   "source": [
    "model = pl.fit(train)"
   ]
  },
  {
   "cell_type": "code",
   "execution_count": 0,
   "metadata": {
    "application/vnd.databricks.v1+cell": {
     "cellMetadata": {
      "byteLimit": 2048000,
      "rowLimit": 10000
     },
     "inputWidgets": {},
     "nuid": "e87ef2cd-8323-4bc2-8ee3-169ab7a535d9",
     "showTitle": false,
     "title": ""
    }
   },
   "outputs": [],
   "source": [
    "%%bash\n",
    "rm -rf predictive_model\n",
    "mkdir predictive_model"
   ]
  },
  {
   "cell_type": "code",
   "execution_count": 0,
   "metadata": {
    "application/vnd.databricks.v1+cell": {
     "cellMetadata": {
      "byteLimit": 2048000,
      "rowLimit": 10000
     },
     "inputWidgets": {},
     "nuid": "a45adf7f-031f-429c-898c-73ec018911ab",
     "showTitle": false,
     "title": ""
    }
   },
   "outputs": [
    {
     "output_type": "stream",
     "name": "stdout",
     "output_type": "stream",
     "text": [
      "model saved\n"
     ]
    }
   ],
   "source": [
    "# Save the model to a folder\n",
    "model_path = r\"file:///databricks/driver/predictive_model\"\n",
    "model.write().overwrite().save(model_path)\n",
    "print(\"model saved\")"
   ]
  },
  {
   "cell_type": "code",
   "execution_count": 0,
   "metadata": {
    "application/vnd.databricks.v1+cell": {
     "cellMetadata": {
      "byteLimit": 2048000,
      "rowLimit": 10000
     },
     "inputWidgets": {},
     "nuid": "b5f36291-bb58-46b0-a2d3-d5e7a872e619",
     "showTitle": false,
     "title": ""
    }
   },
   "outputs": [
    {
     "output_type": "stream",
     "name": "stdout",
     "output_type": "stream",
     "text": [
      "root\n |-- id_orig_p: integer (nullable = true)\n |-- id_resp_p: integer (nullable = true)\n |-- proto: string (nullable = true)\n |-- service: string (nullable = true)\n |-- duration: float (nullable = true)\n |-- orig_bytes: integer (nullable = true)\n |-- resp_bytes: integer (nullable = true)\n |-- conn_state: string (nullable = true)\n |-- history: string (nullable = true)\n |-- orig_pkts: integer (nullable = true)\n |-- orig_ip_bytes: integer (nullable = true)\n |-- resp_pkts: integer (nullable = true)\n |-- resp_ip_bytes: double (nullable = true)\n |-- Malicious: integer (nullable = false)\n |-- proto_idx: double (nullable = false)\n |-- service_idx: double (nullable = false)\n |-- conn_state_idx: double (nullable = false)\n |-- history_idx: double (nullable = false)\n |-- proto_ohe: vector (nullable = true)\n |-- service_ohe: vector (nullable = true)\n |-- conn_state_ohe: vector (nullable = true)\n |-- history_ohe: vector (nullable = true)\n |-- features: vector (nullable = true)\n |-- rawPrediction: vector (nullable = true)\n |-- prediction: double (nullable = true)\n |-- probability: vector (nullable = true)\n\n"
     ]
    }
   ],
   "source": [
    "results = model.transform(test)\n",
    "results.printSchema()"
   ]
  },
  {
   "cell_type": "code",
   "execution_count": 0,
   "metadata": {
    "application/vnd.databricks.v1+cell": {
     "cellMetadata": {
      "byteLimit": 2048000,
      "rowLimit": 10000
     },
     "inputWidgets": {},
     "nuid": "f162be20-1300-4927-b76f-02a590ed08b9",
     "showTitle": false,
     "title": ""
    }
   },
   "outputs": [],
   "source": [
    "# function that calculate all five metrics\n",
    "def evaluate(df):\n",
    "    '''df is the test dataframe containing both the label, rawPrediction, and prediction columns. \n",
    "    This function obtains various model performance metrics'''\n",
    "    evaluator_auc = BinaryClassificationEvaluator(labelCol='Malicious', rawPredictionCol='rawPrediction')\n",
    "    AUC = evaluator_auc.evaluate(df)\n",
    "    print(\"AUC = %g\" % AUC)\n",
    "    evaluator = MulticlassClassificationEvaluator(labelCol=\"Malicious\", predictionCol=\"prediction\", \\\n",
    "                                                  metricName=\"accuracy\")\n",
    "    accuracy = evaluator.evaluate(df)\n",
    "    print(\"Accuracy = %g\" % accuracy)\n",
    "\n",
    "    evaluator.setMetricName(\"f1\")\n",
    "    \n",
    "    f1 = evaluator.evaluate(df)\n",
    "    print(\"f1 = %g\" % f1)\n"
   ]
  },
  {
   "cell_type": "code",
   "execution_count": 0,
   "metadata": {
    "application/vnd.databricks.v1+cell": {
     "cellMetadata": {
      "byteLimit": 2048000,
      "rowLimit": 10000
     },
     "inputWidgets": {},
     "nuid": "d4785fbc-19c8-43ec-90ce-62b53a48ac7e",
     "showTitle": false,
     "title": ""
    }
   },
   "outputs": [
    {
     "output_type": "stream",
     "name": "stdout",
     "output_type": "stream",
     "text": [
      "AUC = 0.997349\nAccuracy = 0.992641\nf1 = 0.992657\n"
     ]
    }
   ],
   "source": [
    "evaluate(results)"
   ]
  },
  {
   "cell_type": "code",
   "execution_count": 0,
   "metadata": {
    "application/vnd.databricks.v1+cell": {
     "cellMetadata": {
      "byteLimit": 2048000,
      "rowLimit": 10000
     },
     "inputWidgets": {},
     "nuid": "6e887c2f-ae06-4fc9-b261-94248b88033e",
     "showTitle": false,
     "title": ""
    }
   },
   "outputs": [
    {
     "output_type": "display_data",
     "data": {
      "text/html": [
       "<style scoped>\n",
       "  .table-result-container {\n",
       "    max-height: 300px;\n",
       "    overflow: auto;\n",
       "  }\n",
       "  table, th, td {\n",
       "    border: 1px solid black;\n",
       "    border-collapse: collapse;\n",
       "  }\n",
       "  th, td {\n",
       "    padding: 5px;\n",
       "  }\n",
       "  th {\n",
       "    text-align: left;\n",
       "  }\n",
       "</style><div class='table-result-container'><table class='table-result'><thead style='background-color: white'><tr><th>id_orig_p</th><th>id_resp_p</th><th>proto</th><th>service</th><th>duration</th><th>orig_bytes</th><th>resp_bytes</th><th>conn_state</th><th>history</th><th>orig_pkts</th><th>orig_ip_bytes</th><th>resp_pkts</th><th>resp_ip_bytes</th><th>Malicious</th><th>proto_idx</th><th>service_idx</th><th>conn_state_idx</th><th>history_idx</th><th>proto_ohe</th><th>service_ohe</th><th>conn_state_ohe</th><th>history_ohe</th><th>features</th><th>rawPrediction</th><th>prediction</th><th>probability</th></tr></thead><tbody><tr><td>3</td><td>0</td><td>icmp</td><td>-</td><td>0.0</td><td>0</td><td>0</td><td>OTH</td><td>-</td><td>1</td><td>56</td><td>0</td><td>0.0</td><td>0</td><td>2.0</td><td>0.0</td><td>1.0</td><td>5.0</td><td>Map(vectorType -> sparse, length -> 3, indices -> List(2), values -> List(1.0))</td><td>Map(vectorType -> sparse, length -> 5, indices -> List(0), values -> List(1.0))</td><td>Map(vectorType -> sparse, length -> 8, indices -> List(1), values -> List(1.0))</td><td>Map(vectorType -> sparse, length -> 32, indices -> List(5), values -> List(1.0))</td><td>Map(vectorType -> sparse, length -> 57, indices -> List(2, 3, 9, 21, 49, 53, 54), values -> List(1.0, 1.0, 1.0, 1.0, 3.0, 1.0, 56.0))</td><td>Map(vectorType -> dense, length -> 2, values -> List(7.150057315826416, -7.150057315826416))</td><td>0.0</td><td>Map(vectorType -> dense, length -> 2, values -> List(0.9992157816886902, 7.842036429792643E-4))</td></tr><tr><td>3</td><td>0</td><td>icmp</td><td>-</td><td>0.0</td><td>0</td><td>0</td><td>OTH</td><td>-</td><td>1</td><td>56</td><td>0</td><td>0.0</td><td>0</td><td>2.0</td><td>0.0</td><td>1.0</td><td>5.0</td><td>Map(vectorType -> sparse, length -> 3, indices -> List(2), values -> List(1.0))</td><td>Map(vectorType -> sparse, length -> 5, indices -> List(0), values -> List(1.0))</td><td>Map(vectorType -> sparse, length -> 8, indices -> List(1), values -> List(1.0))</td><td>Map(vectorType -> sparse, length -> 32, indices -> List(5), values -> List(1.0))</td><td>Map(vectorType -> sparse, length -> 57, indices -> List(2, 3, 9, 21, 49, 53, 54), values -> List(1.0, 1.0, 1.0, 1.0, 3.0, 1.0, 56.0))</td><td>Map(vectorType -> dense, length -> 2, values -> List(7.150057315826416, -7.150057315826416))</td><td>0.0</td><td>Map(vectorType -> dense, length -> 2, values -> List(0.9992157816886902, 7.842036429792643E-4))</td></tr><tr><td>3</td><td>0</td><td>icmp</td><td>-</td><td>0.0</td><td>0</td><td>0</td><td>OTH</td><td>-</td><td>1</td><td>56</td><td>0</td><td>0.0</td><td>0</td><td>2.0</td><td>0.0</td><td>1.0</td><td>5.0</td><td>Map(vectorType -> sparse, length -> 3, indices -> List(2), values -> List(1.0))</td><td>Map(vectorType -> sparse, length -> 5, indices -> List(0), values -> List(1.0))</td><td>Map(vectorType -> sparse, length -> 8, indices -> List(1), values -> List(1.0))</td><td>Map(vectorType -> sparse, length -> 32, indices -> List(5), values -> List(1.0))</td><td>Map(vectorType -> sparse, length -> 57, indices -> List(2, 3, 9, 21, 49, 53, 54), values -> List(1.0, 1.0, 1.0, 1.0, 3.0, 1.0, 56.0))</td><td>Map(vectorType -> dense, length -> 2, values -> List(7.150057315826416, -7.150057315826416))</td><td>0.0</td><td>Map(vectorType -> dense, length -> 2, values -> List(0.9992157816886902, 7.842036429792643E-4))</td></tr><tr><td>3</td><td>0</td><td>icmp</td><td>-</td><td>0.0</td><td>0</td><td>0</td><td>OTH</td><td>-</td><td>1</td><td>56</td><td>0</td><td>0.0</td><td>0</td><td>2.0</td><td>0.0</td><td>1.0</td><td>5.0</td><td>Map(vectorType -> sparse, length -> 3, indices -> List(2), values -> List(1.0))</td><td>Map(vectorType -> sparse, length -> 5, indices -> List(0), values -> List(1.0))</td><td>Map(vectorType -> sparse, length -> 8, indices -> List(1), values -> List(1.0))</td><td>Map(vectorType -> sparse, length -> 32, indices -> List(5), values -> List(1.0))</td><td>Map(vectorType -> sparse, length -> 57, indices -> List(2, 3, 9, 21, 49, 53, 54), values -> List(1.0, 1.0, 1.0, 1.0, 3.0, 1.0, 56.0))</td><td>Map(vectorType -> dense, length -> 2, values -> List(7.150057315826416, -7.150057315826416))</td><td>0.0</td><td>Map(vectorType -> dense, length -> 2, values -> List(0.9992157816886902, 7.842036429792643E-4))</td></tr><tr><td>3</td><td>0</td><td>icmp</td><td>-</td><td>0.0</td><td>0</td><td>0</td><td>OTH</td><td>-</td><td>1</td><td>56</td><td>0</td><td>0.0</td><td>0</td><td>2.0</td><td>0.0</td><td>1.0</td><td>5.0</td><td>Map(vectorType -> sparse, length -> 3, indices -> List(2), values -> List(1.0))</td><td>Map(vectorType -> sparse, length -> 5, indices -> List(0), values -> List(1.0))</td><td>Map(vectorType -> sparse, length -> 8, indices -> List(1), values -> List(1.0))</td><td>Map(vectorType -> sparse, length -> 32, indices -> List(5), values -> List(1.0))</td><td>Map(vectorType -> sparse, length -> 57, indices -> List(2, 3, 9, 21, 49, 53, 54), values -> List(1.0, 1.0, 1.0, 1.0, 3.0, 1.0, 56.0))</td><td>Map(vectorType -> dense, length -> 2, values -> List(7.150057315826416, -7.150057315826416))</td><td>0.0</td><td>Map(vectorType -> dense, length -> 2, values -> List(0.9992157816886902, 7.842036429792643E-4))</td></tr></tbody></table></div>"
      ]
     },
     "metadata": {
      "application/vnd.databricks.v1+output": {
       "addedWidgets": {},
       "aggData": [],
       "aggError": "",
       "aggOverflow": false,
       "aggSchema": [],
       "aggSeriesLimitReached": false,
       "aggType": "",
       "arguments": {},
       "columnCustomDisplayInfos": {},
       "data": [
        [
         3,
         0,
         "icmp",
         "-",
         0.0,
         0,
         0,
         "OTH",
         "-",
         1,
         56,
         0,
         0.0,
         0,
         2.0,
         0.0,
         1.0,
         5.0,
         {
          "indices": [
           2
          ],
          "length": 3,
          "values": [
           1.0
          ],
          "vectorType": "sparse"
         },
         {
          "indices": [
           0
          ],
          "length": 5,
          "values": [
           1.0
          ],
          "vectorType": "sparse"
         },
         {
          "indices": [
           1
          ],
          "length": 8,
          "values": [
           1.0
          ],
          "vectorType": "sparse"
         },
         {
          "indices": [
           5
          ],
          "length": 32,
          "values": [
           1.0
          ],
          "vectorType": "sparse"
         },
         {
          "indices": [
           2,
           3,
           9,
           21,
           49,
           53,
           54
          ],
          "length": 57,
          "values": [
           1.0,
           1.0,
           1.0,
           1.0,
           3.0,
           1.0,
           56.0
          ],
          "vectorType": "sparse"
         },
         {
          "length": 2,
          "values": [
           7.150057315826416,
           -7.150057315826416
          ],
          "vectorType": "dense"
         },
         0.0,
         {
          "length": 2,
          "values": [
           0.9992157816886902,
           7.842036429792643E-4
          ],
          "vectorType": "dense"
         }
        ],
        [
         3,
         0,
         "icmp",
         "-",
         0.0,
         0,
         0,
         "OTH",
         "-",
         1,
         56,
         0,
         0.0,
         0,
         2.0,
         0.0,
         1.0,
         5.0,
         {
          "indices": [
           2
          ],
          "length": 3,
          "values": [
           1.0
          ],
          "vectorType": "sparse"
         },
         {
          "indices": [
           0
          ],
          "length": 5,
          "values": [
           1.0
          ],
          "vectorType": "sparse"
         },
         {
          "indices": [
           1
          ],
          "length": 8,
          "values": [
           1.0
          ],
          "vectorType": "sparse"
         },
         {
          "indices": [
           5
          ],
          "length": 32,
          "values": [
           1.0
          ],
          "vectorType": "sparse"
         },
         {
          "indices": [
           2,
           3,
           9,
           21,
           49,
           53,
           54
          ],
          "length": 57,
          "values": [
           1.0,
           1.0,
           1.0,
           1.0,
           3.0,
           1.0,
           56.0
          ],
          "vectorType": "sparse"
         },
         {
          "length": 2,
          "values": [
           7.150057315826416,
           -7.150057315826416
          ],
          "vectorType": "dense"
         },
         0.0,
         {
          "length": 2,
          "values": [
           0.9992157816886902,
           7.842036429792643E-4
          ],
          "vectorType": "dense"
         }
        ],
        [
         3,
         0,
         "icmp",
         "-",
         0.0,
         0,
         0,
         "OTH",
         "-",
         1,
         56,
         0,
         0.0,
         0,
         2.0,
         0.0,
         1.0,
         5.0,
         {
          "indices": [
           2
          ],
          "length": 3,
          "values": [
           1.0
          ],
          "vectorType": "sparse"
         },
         {
          "indices": [
           0
          ],
          "length": 5,
          "values": [
           1.0
          ],
          "vectorType": "sparse"
         },
         {
          "indices": [
           1
          ],
          "length": 8,
          "values": [
           1.0
          ],
          "vectorType": "sparse"
         },
         {
          "indices": [
           5
          ],
          "length": 32,
          "values": [
           1.0
          ],
          "vectorType": "sparse"
         },
         {
          "indices": [
           2,
           3,
           9,
           21,
           49,
           53,
           54
          ],
          "length": 57,
          "values": [
           1.0,
           1.0,
           1.0,
           1.0,
           3.0,
           1.0,
           56.0
          ],
          "vectorType": "sparse"
         },
         {
          "length": 2,
          "values": [
           7.150057315826416,
           -7.150057315826416
          ],
          "vectorType": "dense"
         },
         0.0,
         {
          "length": 2,
          "values": [
           0.9992157816886902,
           7.842036429792643E-4
          ],
          "vectorType": "dense"
         }
        ],
        [
         3,
         0,
         "icmp",
         "-",
         0.0,
         0,
         0,
         "OTH",
         "-",
         1,
         56,
         0,
         0.0,
         0,
         2.0,
         0.0,
         1.0,
         5.0,
         {
          "indices": [
           2
          ],
          "length": 3,
          "values": [
           1.0
          ],
          "vectorType": "sparse"
         },
         {
          "indices": [
           0
          ],
          "length": 5,
          "values": [
           1.0
          ],
          "vectorType": "sparse"
         },
         {
          "indices": [
           1
          ],
          "length": 8,
          "values": [
           1.0
          ],
          "vectorType": "sparse"
         },
         {
          "indices": [
           5
          ],
          "length": 32,
          "values": [
           1.0
          ],
          "vectorType": "sparse"
         },
         {
          "indices": [
           2,
           3,
           9,
           21,
           49,
           53,
           54
          ],
          "length": 57,
          "values": [
           1.0,
           1.0,
           1.0,
           1.0,
           3.0,
           1.0,
           56.0
          ],
          "vectorType": "sparse"
         },
         {
          "length": 2,
          "values": [
           7.150057315826416,
           -7.150057315826416
          ],
          "vectorType": "dense"
         },
         0.0,
         {
          "length": 2,
          "values": [
           0.9992157816886902,
           7.842036429792643E-4
          ],
          "vectorType": "dense"
         }
        ],
        [
         3,
         0,
         "icmp",
         "-",
         0.0,
         0,
         0,
         "OTH",
         "-",
         1,
         56,
         0,
         0.0,
         0,
         2.0,
         0.0,
         1.0,
         5.0,
         {
          "indices": [
           2
          ],
          "length": 3,
          "values": [
           1.0
          ],
          "vectorType": "sparse"
         },
         {
          "indices": [
           0
          ],
          "length": 5,
          "values": [
           1.0
          ],
          "vectorType": "sparse"
         },
         {
          "indices": [
           1
          ],
          "length": 8,
          "values": [
           1.0
          ],
          "vectorType": "sparse"
         },
         {
          "indices": [
           5
          ],
          "length": 32,
          "values": [
           1.0
          ],
          "vectorType": "sparse"
         },
         {
          "indices": [
           2,
           3,
           9,
           21,
           49,
           53,
           54
          ],
          "length": 57,
          "values": [
           1.0,
           1.0,
           1.0,
           1.0,
           3.0,
           1.0,
           56.0
          ],
          "vectorType": "sparse"
         },
         {
          "length": 2,
          "values": [
           7.150057315826416,
           -7.150057315826416
          ],
          "vectorType": "dense"
         },
         0.0,
         {
          "length": 2,
          "values": [
           0.9992157816886902,
           7.842036429792643E-4
          ],
          "vectorType": "dense"
         }
        ]
       ],
       "datasetInfos": [],
       "dbfsResultPath": null,
       "isJsonSchema": true,
       "metadata": {},
       "overflow": false,
       "plotOptions": {
        "customPlotOptions": {},
        "displayType": "table",
        "pivotAggregation": null,
        "pivotColumns": null,
        "xColumns": null,
        "yColumns": null
       },
       "removedWidgets": [],
       "schema": [
        {
         "metadata": "{}",
         "name": "id_orig_p",
         "type": "\"integer\""
        },
        {
         "metadata": "{}",
         "name": "id_resp_p",
         "type": "\"integer\""
        },
        {
         "metadata": "{}",
         "name": "proto",
         "type": "\"string\""
        },
        {
         "metadata": "{}",
         "name": "service",
         "type": "\"string\""
        },
        {
         "metadata": "{}",
         "name": "duration",
         "type": "\"float\""
        },
        {
         "metadata": "{}",
         "name": "orig_bytes",
         "type": "\"integer\""
        },
        {
         "metadata": "{}",
         "name": "resp_bytes",
         "type": "\"integer\""
        },
        {
         "metadata": "{}",
         "name": "conn_state",
         "type": "\"string\""
        },
        {
         "metadata": "{}",
         "name": "history",
         "type": "\"string\""
        },
        {
         "metadata": "{}",
         "name": "orig_pkts",
         "type": "\"integer\""
        },
        {
         "metadata": "{}",
         "name": "orig_ip_bytes",
         "type": "\"integer\""
        },
        {
         "metadata": "{}",
         "name": "resp_pkts",
         "type": "\"integer\""
        },
        {
         "metadata": "{}",
         "name": "resp_ip_bytes",
         "type": "\"double\""
        },
        {
         "metadata": "{}",
         "name": "Malicious",
         "type": "\"integer\""
        },
        {
         "metadata": "{\"ml_attr\":{\"vals\":[\"tcp\",\"udp\",\"icmp\",\"__unknown\"],\"type\":\"nominal\",\"name\":\"proto_idx\"}}",
         "name": "proto_idx",
         "type": "\"double\""
        },
        {
         "metadata": "{\"ml_attr\":{\"vals\":[\"-\",\"dns\",\"http\",\"ssh\",\"irc\",\"__unknown\"],\"type\":\"nominal\",\"name\":\"service_idx\"}}",
         "name": "service_idx",
         "type": "\"double\""
        },
        {
         "metadata": "{\"ml_attr\":{\"vals\":[\"S0\",\"OTH\",\"RSTOS0\",\"SF\",\"REJ\",\"S3\",\"RSTR\",\"RSTO\",\"__unknown\"],\"type\":\"nominal\",\"name\":\"conn_state_idx\"}}",
         "name": "conn_state_idx",
         "type": "\"double\""
        },
        {
         "metadata": "{\"ml_attr\":{\"vals\":[\"S\",\"C\",\"I\",\"D\",\"DTT\",\"-\",\"Sr\",\"Dd\",\"ShAdDaFf\",\"ShAdDafF\",\"ShAdDaf\",\"^c\",\"ShADadfF\",\"ShADar\",\"R\",\"ShADafF\",\"ShADafr\",\"ShADdfFa\",\"ShADr\",\"ShAadDFf\",\"ShAdDafFr\",\"ShAdDfFr\",\"ShAdfDr\",\"ShADadfR\",\"ShADfFa\",\"ShADfFr\",\"ShADfrFr\",\"ShAdDaFRfR\",\"ShAdDaTR\",\"ShAdDaTfF\",\"ShAdtDaFr\",\"ShR\",\"__unknown\"],\"type\":\"nominal\",\"name\":\"history_idx\"}}",
         "name": "history_idx",
         "type": "\"double\""
        },
        {
         "metadata": "{\"ml_attr\":{\"attrs\":{\"binary\":[{\"idx\":0,\"name\":\"tcp\"},{\"idx\":1,\"name\":\"udp\"},{\"idx\":2,\"name\":\"icmp\"}]},\"num_attrs\":3}}",
         "name": "proto_ohe",
         "type": "{\"type\":\"udt\",\"class\":\"org.apache.spark.ml.linalg.VectorUDT\",\"pyClass\":\"pyspark.ml.linalg.VectorUDT\",\"sqlType\":{\"type\":\"struct\",\"fields\":[{\"name\":\"type\",\"type\":\"byte\",\"nullable\":false,\"metadata\":{}},{\"name\":\"size\",\"type\":\"integer\",\"nullable\":true,\"metadata\":{}},{\"name\":\"indices\",\"type\":{\"type\":\"array\",\"elementType\":\"integer\",\"containsNull\":false},\"nullable\":true,\"metadata\":{}},{\"name\":\"values\",\"type\":{\"type\":\"array\",\"elementType\":\"double\",\"containsNull\":false},\"nullable\":true,\"metadata\":{}}]}}"
        },
        {
         "metadata": "{\"ml_attr\":{\"attrs\":{\"binary\":[{\"idx\":0,\"name\":\"-\"},{\"idx\":1,\"name\":\"dns\"},{\"idx\":2,\"name\":\"http\"},{\"idx\":3,\"name\":\"ssh\"},{\"idx\":4,\"name\":\"irc\"}]},\"num_attrs\":5}}",
         "name": "service_ohe",
         "type": "{\"type\":\"udt\",\"class\":\"org.apache.spark.ml.linalg.VectorUDT\",\"pyClass\":\"pyspark.ml.linalg.VectorUDT\",\"sqlType\":{\"type\":\"struct\",\"fields\":[{\"name\":\"type\",\"type\":\"byte\",\"nullable\":false,\"metadata\":{}},{\"name\":\"size\",\"type\":\"integer\",\"nullable\":true,\"metadata\":{}},{\"name\":\"indices\",\"type\":{\"type\":\"array\",\"elementType\":\"integer\",\"containsNull\":false},\"nullable\":true,\"metadata\":{}},{\"name\":\"values\",\"type\":{\"type\":\"array\",\"elementType\":\"double\",\"containsNull\":false},\"nullable\":true,\"metadata\":{}}]}}"
        },
        {
         "metadata": "{\"ml_attr\":{\"attrs\":{\"binary\":[{\"idx\":0,\"name\":\"S0\"},{\"idx\":1,\"name\":\"OTH\"},{\"idx\":2,\"name\":\"RSTOS0\"},{\"idx\":3,\"name\":\"SF\"},{\"idx\":4,\"name\":\"REJ\"},{\"idx\":5,\"name\":\"S3\"},{\"idx\":6,\"name\":\"RSTR\"},{\"idx\":7,\"name\":\"RSTO\"}]},\"num_attrs\":8}}",
         "name": "conn_state_ohe",
         "type": "{\"type\":\"udt\",\"class\":\"org.apache.spark.ml.linalg.VectorUDT\",\"pyClass\":\"pyspark.ml.linalg.VectorUDT\",\"sqlType\":{\"type\":\"struct\",\"fields\":[{\"name\":\"type\",\"type\":\"byte\",\"nullable\":false,\"metadata\":{}},{\"name\":\"size\",\"type\":\"integer\",\"nullable\":true,\"metadata\":{}},{\"name\":\"indices\",\"type\":{\"type\":\"array\",\"elementType\":\"integer\",\"containsNull\":false},\"nullable\":true,\"metadata\":{}},{\"name\":\"values\",\"type\":{\"type\":\"array\",\"elementType\":\"double\",\"containsNull\":false},\"nullable\":true,\"metadata\":{}}]}}"
        },
        {
         "metadata": "{\"ml_attr\":{\"attrs\":{\"binary\":[{\"idx\":0,\"name\":\"S\"},{\"idx\":1,\"name\":\"C\"},{\"idx\":2,\"name\":\"I\"},{\"idx\":3,\"name\":\"D\"},{\"idx\":4,\"name\":\"DTT\"},{\"idx\":5,\"name\":\"-\"},{\"idx\":6,\"name\":\"Sr\"},{\"idx\":7,\"name\":\"Dd\"},{\"idx\":8,\"name\":\"ShAdDaFf\"},{\"idx\":9,\"name\":\"ShAdDafF\"},{\"idx\":10,\"name\":\"ShAdDaf\"},{\"idx\":11,\"name\":\"^c\"},{\"idx\":12,\"name\":\"ShADadfF\"},{\"idx\":13,\"name\":\"ShADar\"},{\"idx\":14,\"name\":\"R\"},{\"idx\":15,\"name\":\"ShADafF\"},{\"idx\":16,\"name\":\"ShADafr\"},{\"idx\":17,\"name\":\"ShADdfFa\"},{\"idx\":18,\"name\":\"ShADr\"},{\"idx\":19,\"name\":\"ShAadDFf\"},{\"idx\":20,\"name\":\"ShAdDafFr\"},{\"idx\":21,\"name\":\"ShAdDfFr\"},{\"idx\":22,\"name\":\"ShAdfDr\"},{\"idx\":23,\"name\":\"ShADadfR\"},{\"idx\":24,\"name\":\"ShADfFa\"},{\"idx\":25,\"name\":\"ShADfFr\"},{\"idx\":26,\"name\":\"ShADfrFr\"},{\"idx\":27,\"name\":\"ShAdDaFRfR\"},{\"idx\":28,\"name\":\"ShAdDaTR\"},{\"idx\":29,\"name\":\"ShAdDaTfF\"},{\"idx\":30,\"name\":\"ShAdtDaFr\"},{\"idx\":31,\"name\":\"ShR\"}]},\"num_attrs\":32}}",
         "name": "history_ohe",
         "type": "{\"type\":\"udt\",\"class\":\"org.apache.spark.ml.linalg.VectorUDT\",\"pyClass\":\"pyspark.ml.linalg.VectorUDT\",\"sqlType\":{\"type\":\"struct\",\"fields\":[{\"name\":\"type\",\"type\":\"byte\",\"nullable\":false,\"metadata\":{}},{\"name\":\"size\",\"type\":\"integer\",\"nullable\":true,\"metadata\":{}},{\"name\":\"indices\",\"type\":{\"type\":\"array\",\"elementType\":\"integer\",\"containsNull\":false},\"nullable\":true,\"metadata\":{}},{\"name\":\"values\",\"type\":{\"type\":\"array\",\"elementType\":\"double\",\"containsNull\":false},\"nullable\":true,\"metadata\":{}}]}}"
        },
        {
         "metadata": "{\"ml_attr\":{\"attrs\":{\"numeric\":[{\"idx\":48,\"name\":\"id_resp_p\"},{\"idx\":49,\"name\":\"id_orig_p\"},{\"idx\":50,\"name\":\"duration\"},{\"idx\":51,\"name\":\"orig_bytes\"},{\"idx\":52,\"name\":\"resp_bytes\"},{\"idx\":53,\"name\":\"orig_pkts\"},{\"idx\":54,\"name\":\"orig_ip_bytes\"},{\"idx\":55,\"name\":\"resp_pkts\"},{\"idx\":56,\"name\":\"resp_ip_bytes\"}],\"binary\":[{\"idx\":0,\"name\":\"proto_ohe_tcp\"},{\"idx\":1,\"name\":\"proto_ohe_udp\"},{\"idx\":2,\"name\":\"proto_ohe_icmp\"},{\"idx\":3,\"name\":\"service_ohe_-\"},{\"idx\":4,\"name\":\"service_ohe_dns\"},{\"idx\":5,\"name\":\"service_ohe_http\"},{\"idx\":6,\"name\":\"service_ohe_ssh\"},{\"idx\":7,\"name\":\"service_ohe_irc\"},{\"idx\":8,\"name\":\"conn_state_ohe_S0\"},{\"idx\":9,\"name\":\"conn_state_ohe_OTH\"},{\"idx\":10,\"name\":\"conn_state_ohe_RSTOS0\"},{\"idx\":11,\"name\":\"conn_state_ohe_SF\"},{\"idx\":12,\"name\":\"conn_state_ohe_REJ\"},{\"idx\":13,\"name\":\"conn_state_ohe_S3\"},{\"idx\":14,\"name\":\"conn_state_ohe_RSTR\"},{\"idx\":15,\"name\":\"conn_state_ohe_RSTO\"},{\"idx\":16,\"name\":\"history_ohe_S\"},{\"idx\":17,\"name\":\"history_ohe_C\"},{\"idx\":18,\"name\":\"history_ohe_I\"},{\"idx\":19,\"name\":\"history_ohe_D\"},{\"idx\":20,\"name\":\"history_ohe_DTT\"},{\"idx\":21,\"name\":\"history_ohe_-\"},{\"idx\":22,\"name\":\"history_ohe_Sr\"},{\"idx\":23,\"name\":\"history_ohe_Dd\"},{\"idx\":24,\"name\":\"history_ohe_ShAdDaFf\"},{\"idx\":25,\"name\":\"history_ohe_ShAdDafF\"},{\"idx\":26,\"name\":\"history_ohe_ShAdDaf\"},{\"idx\":27,\"name\":\"history_ohe_^c\"},{\"idx\":28,\"name\":\"history_ohe_ShADadfF\"},{\"idx\":29,\"name\":\"history_ohe_ShADar\"},{\"idx\":30,\"name\":\"history_ohe_R\"},{\"idx\":31,\"name\":\"history_ohe_ShADafF\"},{\"idx\":32,\"name\":\"history_ohe_ShADafr\"},{\"idx\":33,\"name\":\"history_ohe_ShADdfFa\"},{\"idx\":34,\"name\":\"history_ohe_ShADr\"},{\"idx\":35,\"name\":\"history_ohe_ShAadDFf\"},{\"idx\":36,\"name\":\"history_ohe_ShAdDafFr\"},{\"idx\":37,\"name\":\"history_ohe_ShAdDfFr\"},{\"idx\":38,\"name\":\"history_ohe_ShAdfDr\"},{\"idx\":39,\"name\":\"history_ohe_ShADadfR\"},{\"idx\":40,\"name\":\"history_ohe_ShADfFa\"},{\"idx\":41,\"name\":\"history_ohe_ShADfFr\"},{\"idx\":42,\"name\":\"history_ohe_ShADfrFr\"},{\"idx\":43,\"name\":\"history_ohe_ShAdDaFRfR\"},{\"idx\":44,\"name\":\"history_ohe_ShAdDaTR\"},{\"idx\":45,\"name\":\"history_ohe_ShAdDaTfF\"},{\"idx\":46,\"name\":\"history_ohe_ShAdtDaFr\"},{\"idx\":47,\"name\":\"history_ohe_ShR\"}]},\"num_attrs\":57}}",
         "name": "features",
         "type": "{\"type\":\"udt\",\"class\":\"org.apache.spark.ml.linalg.VectorUDT\",\"pyClass\":\"pyspark.ml.linalg.VectorUDT\",\"sqlType\":{\"type\":\"struct\",\"fields\":[{\"name\":\"type\",\"type\":\"byte\",\"nullable\":false,\"metadata\":{}},{\"name\":\"size\",\"type\":\"integer\",\"nullable\":true,\"metadata\":{}},{\"name\":\"indices\",\"type\":{\"type\":\"array\",\"elementType\":\"integer\",\"containsNull\":false},\"nullable\":true,\"metadata\":{}},{\"name\":\"values\",\"type\":{\"type\":\"array\",\"elementType\":\"double\",\"containsNull\":false},\"nullable\":true,\"metadata\":{}}]}}"
        },
        {
         "metadata": "{}",
         "name": "rawPrediction",
         "type": "{\"type\":\"udt\",\"class\":\"org.apache.spark.ml.linalg.VectorUDT\",\"pyClass\":\"pyspark.ml.linalg.VectorUDT\",\"sqlType\":{\"type\":\"struct\",\"fields\":[{\"name\":\"type\",\"type\":\"byte\",\"nullable\":false,\"metadata\":{}},{\"name\":\"size\",\"type\":\"integer\",\"nullable\":true,\"metadata\":{}},{\"name\":\"indices\",\"type\":{\"type\":\"array\",\"elementType\":\"integer\",\"containsNull\":false},\"nullable\":true,\"metadata\":{}},{\"name\":\"values\",\"type\":{\"type\":\"array\",\"elementType\":\"double\",\"containsNull\":false},\"nullable\":true,\"metadata\":{}}]}}"
        },
        {
         "metadata": "{}",
         "name": "prediction",
         "type": "\"double\""
        },
        {
         "metadata": "{}",
         "name": "probability",
         "type": "{\"type\":\"udt\",\"class\":\"org.apache.spark.ml.linalg.VectorUDT\",\"pyClass\":\"pyspark.ml.linalg.VectorUDT\",\"sqlType\":{\"type\":\"struct\",\"fields\":[{\"name\":\"type\",\"type\":\"byte\",\"nullable\":false,\"metadata\":{}},{\"name\":\"size\",\"type\":\"integer\",\"nullable\":true,\"metadata\":{}},{\"name\":\"indices\",\"type\":{\"type\":\"array\",\"elementType\":\"integer\",\"containsNull\":false},\"nullable\":true,\"metadata\":{}},{\"name\":\"values\",\"type\":{\"type\":\"array\",\"elementType\":\"double\",\"containsNull\":false},\"nullable\":true,\"metadata\":{}}]}}"
        }
       ],
       "type": "table"
      }
     },
     "output_type": "display_data"
    }
   ],
   "source": [
    "results.limit(5).display()"
   ]
  }
 ],
 "metadata": {
  "application/vnd.databricks.v1+notebook": {
   "dashboards": [],
   "language": "python",
   "notebookMetadata": {
    "pythonIndentUnit": 4
   },
   "notebookName": "Data_Engineering + ML_Model_trainer",
   "widgets": {}
  }
 },
 "nbformat": 4,
 "nbformat_minor": 0
}
