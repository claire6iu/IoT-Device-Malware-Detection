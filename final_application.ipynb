{
 "cells": [
  {
   "cell_type": "code",
   "execution_count": 0,
   "metadata": {
    "application/vnd.databricks.v1+cell": {
     "cellMetadata": {
      "byteLimit": 2048000,
      "rowLimit": 10000
     },
     "inputWidgets": {},
     "nuid": "2e82e68e-8dc7-4b56-a7e2-e56b2ddadbb7",
     "showTitle": false,
     "title": ""
    }
   },
   "outputs": [
    {
     "output_type": "stream",
     "name": "stdout",
     "output_type": "stream",
     "text": [
      "gdown is not installed. Installing it now...\ngdown has been successfully installed.\n"
     ]
    },
    {
     "output_type": "display_data",
     "data": {
      "application/vnd.databricks.v1+bamboolib_hint": "{\"pd.DataFrames\": [], \"version\": \"0.0.1\"}",
      "text/plain": []
     },
     "metadata": {},
     "output_type": "display_data"
    },
    {
     "output_type": "stream",
     "name": "stdout",
     "output_type": "stream",
     "text": [
      "sparkxgb is not installed. Installing it now...\nsparkxgb has been successfully installed.\n"
     ]
    }
   ],
   "source": [
    "try:\n",
    "    import gdown\n",
    "    print(\"gdown is installed.\")\n",
    "except ImportError:\n",
    "    print(\"gdown is not installed. Installing it now...\")\n",
    "    try:\n",
    "        import subprocess\n",
    "        subprocess.check_call([\"pip\", \"install\", \"gdown\"])\n",
    "        print(\"gdown has been successfully installed.\")\n",
    "        import gdown  # Importing again to use it after installation\n",
    "    except Exception as e:\n",
    "        print(f\"Error installing gdown: {e}\")\n",
    "\n",
    "\n",
    "from pyspark.ml.feature import VectorAssembler,VectorIndexer, OneHotEncoder,StringIndexer\n",
    "from pyspark.sql.functions import when, col\n",
    "\n",
    "import pandas as pd\n",
    "import numpy as np\n",
    "import time\n",
    "from datetime import datetime\n",
    "\n",
    "\n",
    "try:\n",
    "    from xgboost.spark import SparkXGBClassifier\n",
    "    print(\"sparkxgb is installed.\")\n",
    "except ImportError:\n",
    "    print(\"sparkxgb is not installed. Installing it now...\")\n",
    "    try:\n",
    "        import subprocess\n",
    "        command = \"pip install pyarrow pandas venv-pack xgboost\"\n",
    "        subprocess.run(command, shell=True, check=True)\n",
    "        print(\"sparkxgb has been successfully installed.\")\n",
    "        from xgboost.spark import SparkXGBClassifier\n",
    "    except Exception as e:\n",
    "        print(f\"Error installing sparkxgb: {e}\")\n",
    "\n",
    "from pyspark.ml.classification import LogisticRegression\n",
    "from pyspark.sql.types import FloatType, IntegerType\n",
    "from pyspark.ml.feature import VectorAssembler,VectorIndexer, OneHotEncoder,StringIndexer\n",
    "from pyspark.ml import Pipeline\n",
    "from pyspark.ml.evaluation import BinaryClassificationEvaluator\n",
    "from pyspark.ml.evaluation import MulticlassClassificationEvaluator\n",
    "\n"
   ]
  },
  {
   "cell_type": "code",
   "execution_count": 0,
   "metadata": {
    "application/vnd.databricks.v1+cell": {
     "cellMetadata": {
      "byteLimit": 2048000,
      "rowLimit": 10000
     },
     "inputWidgets": {},
     "nuid": "cf3153ff-4f87-4d7f-a839-131306ad86cb",
     "showTitle": false,
     "title": ""
    }
   },
   "outputs": [],
   "source": [
    "from pyspark.ml import PipelineModel\n",
    "model_path = r\"file:///databricks/driver/predictive_model\"\n",
    "# Load the model from the saved folder\n",
    "loaded_model = PipelineModel.load(model_path)"
   ]
  },
  {
   "cell_type": "code",
   "execution_count": 0,
   "metadata": {
    "application/vnd.databricks.v1+cell": {
     "cellMetadata": {
      "byteLimit": 2048000,
      "rowLimit": 10000
     },
     "inputWidgets": {},
     "nuid": "d8466322-786c-40a3-9cf7-d0798153b15c",
     "showTitle": false,
     "title": ""
    }
   },
   "outputs": [
    {
     "output_type": "display_data",
     "data": {
      "text/html": [
       "<style scoped>\n",
       "  .table-result-container {\n",
       "    max-height: 300px;\n",
       "    overflow: auto;\n",
       "  }\n",
       "  table, th, td {\n",
       "    border: 1px solid black;\n",
       "    border-collapse: collapse;\n",
       "  }\n",
       "  th, td {\n",
       "    padding: 5px;\n",
       "  }\n",
       "  th {\n",
       "    text-align: left;\n",
       "  }\n",
       "</style><div class='table-result-container'><table class='table-result'><thead style='background-color: white'><tr><th>_c0</th><th>uid</th><th>id_orig_p</th><th>id_resp_p</th><th>proto</th><th>service</th><th>duration</th><th>orig_bytes</th><th>resp_bytes</th><th>conn_state</th><th>history</th><th>orig_pkts</th><th>orig_ip_bytes</th><th>resp_pkts</th><th>resp_ip_bytes</th><th>Malicious</th></tr></thead><tbody><tr><td>0</td><td>CxRJSN1zDC8dmbgdb3</td><td>49708</td><td>6667</td><td>tcp</td><td>-</td><td>0.0</td><td>0</td><td>0</td><td>S0</td><td>S</td><td>1</td><td>60</td><td>0</td><td>0</td><td>1</td></tr></tbody></table></div>"
      ]
     },
     "metadata": {
      "application/vnd.databricks.v1+output": {
       "addedWidgets": {},
       "aggData": [],
       "aggError": "",
       "aggOverflow": false,
       "aggSchema": [],
       "aggSeriesLimitReached": false,
       "aggType": "",
       "arguments": {},
       "columnCustomDisplayInfos": {},
       "data": [
        [
         0,
         "CxRJSN1zDC8dmbgdb3",
         49708,
         6667,
         "tcp",
         "-",
         0.0,
         0,
         0,
         "S0",
         "S",
         1,
         60,
         0,
         0,
         1
        ]
       ],
       "datasetInfos": [],
       "dbfsResultPath": null,
       "isJsonSchema": true,
       "metadata": {},
       "overflow": false,
       "plotOptions": {
        "customPlotOptions": {},
        "displayType": "table",
        "pivotAggregation": null,
        "pivotColumns": null,
        "xColumns": null,
        "yColumns": null
       },
       "removedWidgets": [],
       "schema": [
        {
         "metadata": "{}",
         "name": "_c0",
         "type": "\"integer\""
        },
        {
         "metadata": "{}",
         "name": "uid",
         "type": "\"string\""
        },
        {
         "metadata": "{}",
         "name": "id_orig_p",
         "type": "\"integer\""
        },
        {
         "metadata": "{}",
         "name": "id_resp_p",
         "type": "\"integer\""
        },
        {
         "metadata": "{}",
         "name": "proto",
         "type": "\"string\""
        },
        {
         "metadata": "{}",
         "name": "service",
         "type": "\"string\""
        },
        {
         "metadata": "{}",
         "name": "duration",
         "type": "\"double\""
        },
        {
         "metadata": "{}",
         "name": "orig_bytes",
         "type": "\"integer\""
        },
        {
         "metadata": "{}",
         "name": "resp_bytes",
         "type": "\"integer\""
        },
        {
         "metadata": "{}",
         "name": "conn_state",
         "type": "\"string\""
        },
        {
         "metadata": "{}",
         "name": "history",
         "type": "\"string\""
        },
        {
         "metadata": "{}",
         "name": "orig_pkts",
         "type": "\"integer\""
        },
        {
         "metadata": "{}",
         "name": "orig_ip_bytes",
         "type": "\"integer\""
        },
        {
         "metadata": "{}",
         "name": "resp_pkts",
         "type": "\"integer\""
        },
        {
         "metadata": "{}",
         "name": "resp_ip_bytes",
         "type": "\"integer\""
        },
        {
         "metadata": "{}",
         "name": "Malicious",
         "type": "\"integer\""
        }
       ],
       "type": "table"
      }
     },
     "output_type": "display_data"
    },
    {
     "output_type": "stream",
     "name": "stdout",
     "output_type": "stream",
     "text": [
      "Out[3]: StructType([StructField('_c0', IntegerType(), True), StructField('uid', StringType(), True), StructField('id_orig_p', IntegerType(), True), StructField('id_resp_p', IntegerType(), True), StructField('proto', StringType(), True), StructField('service', StringType(), True), StructField('duration', DoubleType(), True), StructField('orig_bytes', IntegerType(), True), StructField('resp_bytes', IntegerType(), True), StructField('conn_state', StringType(), True), StructField('history', StringType(), True), StructField('orig_pkts', IntegerType(), True), StructField('orig_ip_bytes', IntegerType(), True), StructField('resp_pkts', IntegerType(), True), StructField('resp_ip_bytes', IntegerType(), True), StructField('Malicious', IntegerType(), True)])"
     ]
    }
   ],
   "source": [
    "csv_path = r\"file:/databricks/driver/tmp/static/random_chunk.csv\"\n",
    "df = spark.read.option(\"header\", \"true\").option(\"inferschema\", \"true\").csv(csv_path)\n",
    "df.display()\n",
    "df.schema"
   ]
  },
  {
   "cell_type": "code",
   "execution_count": 0,
   "metadata": {
    "application/vnd.databricks.v1+cell": {
     "cellMetadata": {
      "byteLimit": 2048000,
      "rowLimit": 10000
     },
     "inputWidgets": {},
     "nuid": "be624504-bd9a-43b2-b05e-664c76cb16df",
     "showTitle": false,
     "title": ""
    }
   },
   "outputs": [],
   "source": [
    "from pyspark.sql import SparkSession\n",
    "from pyspark.ml import PipelineModel\n",
    "from pyspark.sql.functions import expr\n",
    "from pyspark.sql.types import StructType, StructField, StringType, DoubleType, IntegerType\n",
    "\n",
    "\n",
    "# Create a Spark session\n",
    "spark = SparkSession.builder.appName(\"StreamingExample\").getOrCreate()\n",
    "\n",
    "\n",
    "csv_path = r\"file:/databricks/driver/tmp/\"\n",
    "streaming_df = spark.readStream.option(\"header\", \"true\").schema(df.schema).option(\"maxFilesPerTrigger\", 1) .csv(csv_path)\n",
    "\n",
    "\n",
    "try:\n",
    "    predictions_df = loaded_model.transform(streaming_df)\n",
    "    # Add additional processing logic here if needed\n",
    "\n",
    "    # Define the sink for the streaming output\n",
    "    predictions_query = predictions_df.writeStream \\\n",
    "        .format(\"memory\") \\\n",
    "        .queryName(\"predictions\") \\\n",
    "        .outputMode(\"append\") \\\n",
    "        .start()\n",
    "\n",
    "    #predictions_query.awaitTermination()\n",
    "\n",
    "except:\n",
    "    print(f\"Error in streaming query\")\n",
    "\n"
   ]
  },
  {
   "cell_type": "code",
   "execution_count": 0,
   "metadata": {
    "application/vnd.databricks.v1+cell": {
     "cellMetadata": {
      "byteLimit": 2048000,
      "rowLimit": 10000
     },
     "inputWidgets": {},
     "nuid": "4e043ee6-cab3-41f3-b7e6-8348a50d3658",
     "showTitle": false,
     "title": ""
    }
   },
   "outputs": [
    {
     "output_type": "stream",
     "name": "stderr",
     "output_type": "stream",
     "text": [
      "rm: cannot remove 'PredictionData': No such file or directory\n"
     ]
    }
   ],
   "source": [
    "%%bash\n",
    "rm -r PredictionData\n",
    "mkdir PredictionData"
   ]
  },
  {
   "cell_type": "code",
   "execution_count": 0,
   "metadata": {
    "application/vnd.databricks.v1+cell": {
     "cellMetadata": {
      "byteLimit": 2048000,
      "rowLimit": 10000
     },
     "inputWidgets": {},
     "nuid": "fe1a947a-531d-400d-b127-12e52240c619",
     "showTitle": false,
     "title": ""
    }
   },
   "outputs": [
    {
     "output_type": "stream",
     "name": "stderr",
     "output_type": "stream",
     "text": [
      "rm: cannot remove 'processing_aid': No such file or directory\nDownloading...\nFrom: https://drive.google.com/uc?id=1eARwwYFGSHpaOcuA8GxwwvzMeOgFvafD\nTo: /databricks/driver/simulated_actions.csv\n\r  0%|          | 0.00/6.51k [00:00<?, ?B/s]\r100%|██████████| 6.51k/6.51k [00:00<00:00, 5.56MB/s]\n"
     ]
    }
   ],
   "source": [
    "%%bash\n",
    "rm -r processing_aid\n",
    "# Replace 'YOUR_FILE_ID' with the actual file ID from the Google Drive link\n",
    "file_id=\"1eARwwYFGSHpaOcuA8GxwwvzMeOgFvafD\"\n",
    "\n",
    "# Replace 'output_file.zip' with the desired output file name\n",
    "output_file=\"simulated_actions.csv\"\n",
    "\n",
    "# Download the file from Google Drive using gdown\n",
    "gdown \"https://drive.google.com/uc?id=${file_id}\" -O \"${output_file}\""
   ]
  },
  {
   "cell_type": "code",
   "execution_count": 0,
   "metadata": {
    "application/vnd.databricks.v1+cell": {
     "cellMetadata": {
      "byteLimit": 2048000,
      "rowLimit": 10000
     },
     "inputWidgets": {},
     "nuid": "512e6197-525d-46e2-997d-2fd3c1823875",
     "showTitle": false,
     "title": ""
    }
   },
   "outputs": [],
   "source": [
    "import random\n",
    "def prediction_processor(df, existing_data = \"none\"):\n",
    "    simulated_action_data = pd.read_csv(\"simulated_actions.csv\")\n",
    "    if len(df) >1:\n",
    "        if not isinstance(existing_data, pd.DataFrame):\n",
    "            df[\"ID\"] = \"\"\n",
    "            df[\"TimeStamp\"] = \"\"\n",
    "        else:\n",
    "            df = df.merge(existing_data[[\"IOT Connection ID\", \"ID\", \"TimeStamp\"]], how='left', on='IOT Connection ID' )\n",
    "            df[[\"ID\", \"TimeStamp\"]] = df[[\"ID\", \"TimeStamp\"]].fillna(\"\")\n",
    "        for index,row in df.iterrows():\n",
    "            if row[\"ID\"] == \"\" and row[\"Prediction\"] == \"Malicious\":\n",
    "                df.loc[index, \"ID\"] = random.randint(51, 100)\n",
    "            if row[\"ID\"] == \"\" and row[\"Prediction\"] == \"Benign\":\n",
    "                df.loc[index, \"ID\"] = random.randint(1, 50)\n",
    "            if row[\"TimeStamp\"] == \"\":\n",
    "                df.loc[index, \"TimeStamp\"] = datetime.now()\n",
    "        df = df.merge(simulated_action_data, how='left', on='ID' )\n",
    "        print(df.columns)\n",
    "        return df[[\"TimeStamp\", \"IOT Connection ID\" , \"ID\", \"County\", \"Device IP\", \"Device Type\", \"Malware Attack Attempt\", \"Recommended Action\"]]\n",
    "    else:\n",
    "        print(\"No Predictions made yet\")\n",
    "\n",
    "\n"
   ]
  },
  {
   "cell_type": "code",
   "execution_count": 0,
   "metadata": {
    "application/vnd.databricks.v1+cell": {
     "cellMetadata": {
      "byteLimit": 2048000,
      "rowLimit": 10000
     },
     "inputWidgets": {},
     "nuid": "b3815904-d192-4c5c-bb28-e152c531dfa1",
     "showTitle": false,
     "title": ""
    }
   },
   "outputs": [
    {
     "output_type": "stream",
     "name": "stdout",
     "output_type": "stream",
     "text": [
      "2023-12-02 16:04:39.103602\nIndex(['IOT Connection ID', 'Prediction', 'ID', 'TimeStamp', 'County',\n       'Device IP', 'Device Type', 'Malware Attack Attempt',\n       'Recommended Action'],\n      dtype='object')\n                     TimeStamp   IOT Connection ID  ID      County  \\\n0   2023-12-02 16:04:39.299325  C656YD2TqZazmCySNe  46      Carver   \n1   2023-12-02 16:04:39.299743  COw1bC4rVHzw5SjqS8  79      Ramsey   \n2   2023-12-02 16:04:39.300078   CLU5zk4m7xRPVamzp  71  Washington   \n3   2023-12-02 16:04:39.300967  CDcMlk2RbJ5mBmOGOb  72      Wright   \n4   2023-12-02 16:04:39.301465  Co6tr44hTakRFGmve7  67      Isanti   \n5   2023-12-02 16:04:39.301845  CsY0wK2W28YxIxA7Td  75     Chisago   \n6   2023-12-02 16:04:39.302205  CWZwBr3e7PEdcjQ047  58       Scott   \n7   2023-12-02 16:04:39.302534   CqZ9WP3LWmxKQtXZ3  55    Hennepin   \n8   2023-12-02 16:04:39.302950  Cf2llj1vk5kImgnlJi  82  Washington   \n9   2023-12-02 16:04:39.303309  CNRaQS1qAUGftcX0o1  30       Scott   \n10  2023-12-02 16:04:39.303635   CzJpKd4e6aFNX9dbh  74      Carver   \n11  2023-12-02 16:04:39.304106   CfgVwrSLXOYWOC0hd  84       Anoka   \n12  2023-12-02 16:04:39.304483   CcdANZM05DkOYp4ki  19       Scott   \n13  2023-12-02 16:04:39.304883  C6UONH2r9mot9OqB6c  80       Scott   \n14  2023-12-02 16:04:39.305330   CH0m0scOUhNXenri7  57      Ramsey   \n15  2023-12-02 16:04:39.305696  C8pHO02dDjcazPQvUd  99    Hennepin   \n16  2023-12-02 16:04:39.306072  CLDHyB1amzWYKwXcW3  52      Carver   \n17  2023-12-02 16:04:39.306407  C1hq0V2JLb0yGV9jA2  36     Chisago   \n18  2023-12-02 16:04:39.306778  CKBTil15EtSeX8lOXa  98      Dakota   \n19  2023-12-02 16:04:39.307180  CaDsf7419oxQTJVNf3  35      Carver   \n20  2023-12-02 16:04:39.307519  C4thZD4rDMcwUzqqKa  75     Chisago   \n21  2023-12-02 16:04:39.307874   CcFXLynukEDnUlvgl  45       Anoka   \n22  2023-12-02 16:04:39.308275  COBmWn4lWXQr0kggJ9  29      Ramsey   \n23  2023-12-02 16:04:39.308688   CdUo9mRcuMlE0TaO3  72      Wright   \n24  2023-12-02 16:04:39.309043  CeYEuy4iXpZY1GST62  23       Anoka   \n25  2023-12-02 16:04:39.309458   CMsvMk2kq1V7L2J6D  66    Hennepin   \n26  2023-12-02 16:04:39.310665  Cwx9Wx1VgP62slQHal  84       Anoka   \n27  2023-12-02 16:04:39.311012  C70eKn2S0Dod9MOBr3  85      Carver   \n28  2023-12-02 16:04:39.311382  C69hsC2TWuh0jbJTq3  44      Wright   \n\n          Device IP    Device Type Malware Attack Attempt  \\\n0    36.142.242.120    Echo device                     No   \n1     78.45.140.146   Smart Fridge                    Yes   \n2    211.20.180.177  IOT Home Lock                    Yes   \n3    142.220.10.166    Echo device                    Yes   \n4       105.73.67.8   Smart Fridge                    Yes   \n5   112.170.166.157    Echo device                    Yes   \n6     179.128.75.67   Smart Fridge                    Yes   \n7   176.177.175.133   Smart Fridge                    Yes   \n8    21.162.217.119   Smart Fridge                    Yes   \n9   226.217.221.127  IOT Home Lock                     No   \n10   139.192.181.97  IOT Home Lock                    Yes   \n11  116.230.188.232    Echo device                    Yes   \n12      8.102.24.81    Echo device                     No   \n13  226.217.221.127  IOT Home Lock                    Yes   \n14     227.142.5.69    Echo device                    Yes   \n15   80.125.208.250    Echo device                    Yes   \n16   115.191.154.74   Smart Fridge                    Yes   \n17   131.84.192.130  IOT Home Lock                     No   \n18    85.208.170.19  IOT Home Lock                    Yes   \n19   182.193.85.174   Smart Fridge                     No   \n20  112.170.166.157    Echo device                    Yes   \n21      230.6.38.61  IOT Home Lock                     No   \n22    78.45.140.146   Smart Fridge                     No   \n23   142.220.10.166    Echo device                    Yes   \n24   181.227.79.205   Smart Fridge                     No   \n25     174.6.24.255    Echo device                    Yes   \n26  116.230.188.232    Echo device                    Yes   \n27   182.193.85.174   Smart Fridge                    Yes   \n28   254.170.228.64   Smart Fridge                     No   \n\n                                   Recommended Action  \n0                                           No Action  \n1                         Disconnect and message user  \n2   Notify security team, user, disable unlock att...  \n3                                log user out of echo  \n4                         Disconnect and message user  \n5                                log user out of echo  \n6                         Disconnect and message user  \n7                         Disconnect and message user  \n8                         Disconnect and message user  \n9                                           No Action  \n10  Notify security team, user, disable unlock att...  \n11                               log user out of echo  \n12                                          No Action  \n13  Notify security team, user, disable unlock att...  \n14                               log user out of echo  \n15                               log user out of echo  \n16                        Disconnect and message user  \n17                                          No Action  \n18  Notify security team, user, disable unlock att...  \n19                                          No Action  \n20                               log user out of echo  \n21                                          No Action  \n22                                          No Action  \n23                               log user out of echo  \n24                                          No Action  \n25                               log user out of echo  \n26                               log user out of echo  \n27                        Disconnect and message user  \n28                                          No Action  \n2023-12-02 16:04:41.325238\nIndex(['IOT Connection ID', 'Prediction', 'ID', 'TimeStamp', 'County',\n       'Device IP', 'Device Type', 'Malware Attack Attempt',\n       'Recommended Action'],\n      dtype='object')\n                    TimeStamp   IOT Connection ID  ID      County  \\\n0  2023-12-02 16:04:39.299325  C656YD2TqZazmCySNe  46      Carver   \n1  2023-12-02 16:04:39.299743  COw1bC4rVHzw5SjqS8  79      Ramsey   \n2  2023-12-02 16:04:39.300078   CLU5zk4m7xRPVamzp  71  Washington   \n3  2023-12-02 16:04:39.300967  CDcMlk2RbJ5mBmOGOb  72      Wright   \n4  2023-12-02 16:04:39.301465  Co6tr44hTakRFGmve7  67      Isanti   \n5  2023-12-02 16:04:39.301845  CsY0wK2W28YxIxA7Td  75     Chisago   \n6  2023-12-02 16:04:39.302205  CWZwBr3e7PEdcjQ047  58       Scott   \n7  2023-12-02 16:04:39.302534   CqZ9WP3LWmxKQtXZ3  55    Hennepin   \n8  2023-12-02 16:04:39.302950  Cf2llj1vk5kImgnlJi  82  Washington   \n9  2023-12-02 16:04:39.303309  CNRaQS1qAUGftcX0o1  30       Scott   \n10 2023-12-02 16:04:39.303635   CzJpKd4e6aFNX9dbh  74      Carver   \n11 2023-12-02 16:04:39.304106   CfgVwrSLXOYWOC0hd  84       Anoka   \n12 2023-12-02 16:04:39.304483   CcdANZM05DkOYp4ki  19       Scott   \n13 2023-12-02 16:04:39.304883  C6UONH2r9mot9OqB6c  80       Scott   \n14 2023-12-02 16:04:39.305330   CH0m0scOUhNXenri7  57      Ramsey   \n15 2023-12-02 16:04:39.305696  C8pHO02dDjcazPQvUd  99    Hennepin   \n16 2023-12-02 16:04:39.306072  CLDHyB1amzWYKwXcW3  52      Carver   \n17 2023-12-02 16:04:39.306407  C1hq0V2JLb0yGV9jA2  36     Chisago   \n18 2023-12-02 16:04:39.306778  CKBTil15EtSeX8lOXa  98      Dakota   \n19 2023-12-02 16:04:39.307180  CaDsf7419oxQTJVNf3  35      Carver   \n20 2023-12-02 16:04:39.307519  C4thZD4rDMcwUzqqKa  75     Chisago   \n21 2023-12-02 16:04:39.307874   CcFXLynukEDnUlvgl  45       Anoka   \n22 2023-12-02 16:04:39.308275  COBmWn4lWXQr0kggJ9  29      Ramsey   \n23 2023-12-02 16:04:39.308688   CdUo9mRcuMlE0TaO3  72      Wright   \n24 2023-12-02 16:04:39.309043  CeYEuy4iXpZY1GST62  23       Anoka   \n25 2023-12-02 16:04:39.309458   CMsvMk2kq1V7L2J6D  66    Hennepin   \n26 2023-12-02 16:04:39.310665  Cwx9Wx1VgP62slQHal  84       Anoka   \n27 2023-12-02 16:04:39.311012  C70eKn2S0Dod9MOBr3  85      Carver   \n28 2023-12-02 16:04:39.311382  C69hsC2TWuh0jbJTq3  44      Wright   \n\n          Device IP    Device Type Malware Attack Attempt  \\\n0    36.142.242.120    Echo device                     No   \n1     78.45.140.146   Smart Fridge                    Yes   \n2    211.20.180.177  IOT Home Lock                    Yes   \n3    142.220.10.166    Echo device                    Yes   \n4       105.73.67.8   Smart Fridge                    Yes   \n5   112.170.166.157    Echo device                    Yes   \n6     179.128.75.67   Smart Fridge                    Yes   \n7   176.177.175.133   Smart Fridge                    Yes   \n8    21.162.217.119   Smart Fridge                    Yes   \n9   226.217.221.127  IOT Home Lock                     No   \n10   139.192.181.97  IOT Home Lock                    Yes   \n11  116.230.188.232    Echo device                    Yes   \n12      8.102.24.81    Echo device                     No   \n13  226.217.221.127  IOT Home Lock                    Yes   \n14     227.142.5.69    Echo device                    Yes   \n15   80.125.208.250    Echo device                    Yes   \n16   115.191.154.74   Smart Fridge                    Yes   \n17   131.84.192.130  IOT Home Lock                     No   \n18    85.208.170.19  IOT Home Lock                    Yes   \n19   182.193.85.174   Smart Fridge                     No   \n20  112.170.166.157    Echo device                    Yes   \n21      230.6.38.61  IOT Home Lock                     No   \n22    78.45.140.146   Smart Fridge                     No   \n23   142.220.10.166    Echo device                    Yes   \n24   181.227.79.205   Smart Fridge                     No   \n25     174.6.24.255    Echo device                    Yes   \n26  116.230.188.232    Echo device                    Yes   \n27   182.193.85.174   Smart Fridge                    Yes   \n28   254.170.228.64   Smart Fridge                     No   \n\n                                   Recommended Action  \n0                                           No Action  \n1                         Disconnect and message user  \n2   Notify security team, user, disable unlock att...  \n3                                log user out of echo  \n4                         Disconnect and message user  \n5                                log user out of echo  \n6                         Disconnect and message user  \n7                         Disconnect and message user  \n8                         Disconnect and message user  \n9                                           No Action  \n10  Notify security team, user, disable unlock att...  \n11                               log user out of echo  \n12                                          No Action  \n13  Notify security team, user, disable unlock att...  \n14                               log user out of echo  \n15                               log user out of echo  \n16                        Disconnect and message user  \n17                                          No Action  \n18  Notify security team, user, disable unlock att...  \n19                                          No Action  \n20                               log user out of echo  \n21                                          No Action  \n22                                          No Action  \n23                               log user out of echo  \n24                                          No Action  \n25                               log user out of echo  \n26                               log user out of echo  \n27                        Disconnect and message user  \n28                                          No Action  \n2023-12-02 16:04:43.537236\nIndex(['IOT Connection ID', 'Prediction', 'ID', 'TimeStamp', 'County',\n       'Device IP', 'Device Type', 'Malware Attack Attempt',\n       'Recommended Action'],\n      dtype='object')\n                    TimeStamp   IOT Connection ID  ID      County  \\\n0  2023-12-02 16:04:39.299325  C656YD2TqZazmCySNe  46      Carver   \n1  2023-12-02 16:04:39.299743  COw1bC4rVHzw5SjqS8  79      Ramsey   \n2  2023-12-02 16:04:39.300078   CLU5zk4m7xRPVamzp  71  Washington   \n3  2023-12-02 16:04:39.300967  CDcMlk2RbJ5mBmOGOb  72      Wright   \n4  2023-12-02 16:04:39.301465  Co6tr44hTakRFGmve7  67      Isanti   \n5  2023-12-02 16:04:39.301845  CsY0wK2W28YxIxA7Td  75     Chisago   \n6  2023-12-02 16:04:39.302205  CWZwBr3e7PEdcjQ047  58       Scott   \n7  2023-12-02 16:04:39.302534   CqZ9WP3LWmxKQtXZ3  55    Hennepin   \n8  2023-12-02 16:04:39.302950  Cf2llj1vk5kImgnlJi  82  Washington   \n9  2023-12-02 16:04:39.303309  CNRaQS1qAUGftcX0o1  30       Scott   \n10 2023-12-02 16:04:39.303635   CzJpKd4e6aFNX9dbh  74      Carver   \n11 2023-12-02 16:04:39.304106   CfgVwrSLXOYWOC0hd  84       Anoka   \n12 2023-12-02 16:04:39.304483   CcdANZM05DkOYp4ki  19       Scott   \n13 2023-12-02 16:04:39.304883  C6UONH2r9mot9OqB6c  80       Scott   \n14 2023-12-02 16:04:39.305330   CH0m0scOUhNXenri7  57      Ramsey   \n15 2023-12-02 16:04:39.305696  C8pHO02dDjcazPQvUd  99    Hennepin   \n16 2023-12-02 16:04:39.306072  CLDHyB1amzWYKwXcW3  52      Carver   \n17 2023-12-02 16:04:39.306407  C1hq0V2JLb0yGV9jA2  36     Chisago   \n18 2023-12-02 16:04:39.306778  CKBTil15EtSeX8lOXa  98      Dakota   \n19 2023-12-02 16:04:39.307180  CaDsf7419oxQTJVNf3  35      Carver   \n20 2023-12-02 16:04:39.307519  C4thZD4rDMcwUzqqKa  75     Chisago   \n21 2023-12-02 16:04:39.307874   CcFXLynukEDnUlvgl  45       Anoka   \n22 2023-12-02 16:04:39.308275  COBmWn4lWXQr0kggJ9  29      Ramsey   \n23 2023-12-02 16:04:39.308688   CdUo9mRcuMlE0TaO3  72      Wright   \n24 2023-12-02 16:04:39.309043  CeYEuy4iXpZY1GST62  23       Anoka   \n25 2023-12-02 16:04:39.309458   CMsvMk2kq1V7L2J6D  66    Hennepin   \n26 2023-12-02 16:04:39.310665  Cwx9Wx1VgP62slQHal  84       Anoka   \n27 2023-12-02 16:04:39.311012  C70eKn2S0Dod9MOBr3  85      Carver   \n28 2023-12-02 16:04:39.311382  C69hsC2TWuh0jbJTq3  44      Wright   \n\n          Device IP    Device Type Malware Attack Attempt  \\\n0    36.142.242.120    Echo device                     No   \n1     78.45.140.146   Smart Fridge                    Yes   \n2    211.20.180.177  IOT Home Lock                    Yes   \n3    142.220.10.166    Echo device                    Yes   \n4       105.73.67.8   Smart Fridge                    Yes   \n5   112.170.166.157    Echo device                    Yes   \n6     179.128.75.67   Smart Fridge                    Yes   \n7   176.177.175.133   Smart Fridge                    Yes   \n8    21.162.217.119   Smart Fridge                    Yes   \n9   226.217.221.127  IOT Home Lock                     No   \n10   139.192.181.97  IOT Home Lock                    Yes   \n11  116.230.188.232    Echo device                    Yes   \n12      8.102.24.81    Echo device                     No   \n13  226.217.221.127  IOT Home Lock                    Yes   \n14     227.142.5.69    Echo device                    Yes   \n15   80.125.208.250    Echo device                    Yes   \n16   115.191.154.74   Smart Fridge                    Yes   \n17   131.84.192.130  IOT Home Lock                     No   \n18    85.208.170.19  IOT Home Lock                    Yes   \n19   182.193.85.174   Smart Fridge                     No   \n20  112.170.166.157    Echo device                    Yes   \n21      230.6.38.61  IOT Home Lock                     No   \n22    78.45.140.146   Smart Fridge                     No   \n23   142.220.10.166    Echo device                    Yes   \n24   181.227.79.205   Smart Fridge                     No   \n25     174.6.24.255    Echo device                    Yes   \n26  116.230.188.232    Echo device                    Yes   \n27   182.193.85.174   Smart Fridge                    Yes   \n28   254.170.228.64   Smart Fridge                     No   \n\n                                   Recommended Action  \n0                                           No Action  \n1                         Disconnect and message user  \n2   Notify security team, user, disable unlock att...  \n3                                log user out of echo  \n4                         Disconnect and message user  \n5                                log user out of echo  \n6                         Disconnect and message user  \n7                         Disconnect and message user  \n8                         Disconnect and message user  \n9                                           No Action  \n10  Notify security team, user, disable unlock att...  \n11                               log user out of echo  \n12                                          No Action  \n13  Notify security team, user, disable unlock att...  \n14                               log user out of echo  \n15                               log user out of echo  \n16                        Disconnect and message user  \n17                                          No Action  \n18  Notify security team, user, disable unlock att...  \n19                                          No Action  \n20                               log user out of echo  \n21                                          No Action  \n22                                          No Action  \n23                               log user out of echo  \n24                                          No Action  \n25                               log user out of echo  \n26                               log user out of echo  \n27                        Disconnect and message user  \n28                                          No Action  \n2023-12-02 16:04:45.772517\nIndex(['IOT Connection ID', 'Prediction', 'ID', 'TimeStamp', 'County',\n       'Device IP', 'Device Type', 'Malware Attack Attempt',\n       'Recommended Action'],\n      dtype='object')\n                    TimeStamp   IOT Connection ID  ID      County  \\\n0  2023-12-02 16:04:39.299325  C656YD2TqZazmCySNe  46      Carver   \n1  2023-12-02 16:04:39.299743  COw1bC4rVHzw5SjqS8  79      Ramsey   \n2  2023-12-02 16:04:39.300078   CLU5zk4m7xRPVamzp  71  Washington   \n3  2023-12-02 16:04:39.300967  CDcMlk2RbJ5mBmOGOb  72      Wright   \n4  2023-12-02 16:04:39.301465  Co6tr44hTakRFGmve7  67      Isanti   \n5  2023-12-02 16:04:39.301845  CsY0wK2W28YxIxA7Td  75     Chisago   \n6  2023-12-02 16:04:39.302205  CWZwBr3e7PEdcjQ047  58       Scott   \n7  2023-12-02 16:04:39.302534   CqZ9WP3LWmxKQtXZ3  55    Hennepin   \n8  2023-12-02 16:04:39.302950  Cf2llj1vk5kImgnlJi  82  Washington   \n9  2023-12-02 16:04:39.303309  CNRaQS1qAUGftcX0o1  30       Scott   \n10 2023-12-02 16:04:39.303635   CzJpKd4e6aFNX9dbh  74      Carver   \n11 2023-12-02 16:04:39.304106   CfgVwrSLXOYWOC0hd  84       Anoka   \n12 2023-12-02 16:04:39.304483   CcdANZM05DkOYp4ki  19       Scott   \n13 2023-12-02 16:04:39.304883  C6UONH2r9mot9OqB6c  80       Scott   \n14 2023-12-02 16:04:39.305330   CH0m0scOUhNXenri7  57      Ramsey   \n15 2023-12-02 16:04:39.305696  C8pHO02dDjcazPQvUd  99    Hennepin   \n16 2023-12-02 16:04:39.306072  CLDHyB1amzWYKwXcW3  52      Carver   \n17 2023-12-02 16:04:39.306407  C1hq0V2JLb0yGV9jA2  36     Chisago   \n18 2023-12-02 16:04:39.306778  CKBTil15EtSeX8lOXa  98      Dakota   \n19 2023-12-02 16:04:39.307180  CaDsf7419oxQTJVNf3  35      Carver   \n20 2023-12-02 16:04:39.307519  C4thZD4rDMcwUzqqKa  75     Chisago   \n21 2023-12-02 16:04:39.307874   CcFXLynukEDnUlvgl  45       Anoka   \n22 2023-12-02 16:04:39.308275  COBmWn4lWXQr0kggJ9  29      Ramsey   \n23 2023-12-02 16:04:39.308688   CdUo9mRcuMlE0TaO3  72      Wright   \n24 2023-12-02 16:04:39.309043  CeYEuy4iXpZY1GST62  23       Anoka   \n25 2023-12-02 16:04:39.309458   CMsvMk2kq1V7L2J6D  66    Hennepin   \n26 2023-12-02 16:04:39.310665  Cwx9Wx1VgP62slQHal  84       Anoka   \n27 2023-12-02 16:04:39.311012  C70eKn2S0Dod9MOBr3  85      Carver   \n28 2023-12-02 16:04:39.311382  C69hsC2TWuh0jbJTq3  44      Wright   \n\n          Device IP    Device Type Malware Attack Attempt  \\\n0    36.142.242.120    Echo device                     No   \n1     78.45.140.146   Smart Fridge                    Yes   \n2    211.20.180.177  IOT Home Lock                    Yes   \n3    142.220.10.166    Echo device                    Yes   \n4       105.73.67.8   Smart Fridge                    Yes   \n5   112.170.166.157    Echo device                    Yes   \n6     179.128.75.67   Smart Fridge                    Yes   \n7   176.177.175.133   Smart Fridge                    Yes   \n8    21.162.217.119   Smart Fridge                    Yes   \n9   226.217.221.127  IOT Home Lock                     No   \n10   139.192.181.97  IOT Home Lock                    Yes   \n11  116.230.188.232    Echo device                    Yes   \n12      8.102.24.81    Echo device                     No   \n13  226.217.221.127  IOT Home Lock                    Yes   \n14     227.142.5.69    Echo device                    Yes   \n15   80.125.208.250    Echo device                    Yes   \n16   115.191.154.74   Smart Fridge                    Yes   \n17   131.84.192.130  IOT Home Lock                     No   \n18    85.208.170.19  IOT Home Lock                    Yes   \n19   182.193.85.174   Smart Fridge                     No   \n20  112.170.166.157    Echo device                    Yes   \n21      230.6.38.61  IOT Home Lock                     No   \n22    78.45.140.146   Smart Fridge                     No   \n23   142.220.10.166    Echo device                    Yes   \n24   181.227.79.205   Smart Fridge                     No   \n25     174.6.24.255    Echo device                    Yes   \n26  116.230.188.232    Echo device                    Yes   \n27   182.193.85.174   Smart Fridge                    Yes   \n28   254.170.228.64   Smart Fridge                     No   \n\n                                   Recommended Action  \n0                                           No Action  \n1                         Disconnect and message user  \n2   Notify security team, user, disable unlock att...  \n3                                log user out of echo  \n4                         Disconnect and message user  \n5                                log user out of echo  \n6                         Disconnect and message user  \n7                         Disconnect and message user  \n8                         Disconnect and message user  \n9                                           No Action  \n10  Notify security team, user, disable unlock att...  \n11                               log user out of echo  \n12                                          No Action  \n13  Notify security team, user, disable unlock att...  \n14                               log user out of echo  \n15                               log user out of echo  \n16                        Disconnect and message user  \n17                                          No Action  \n18  Notify security team, user, disable unlock att...  \n19                                          No Action  \n20                               log user out of echo  \n21                                          No Action  \n22                                          No Action  \n23                               log user out of echo  \n24                                          No Action  \n25                               log user out of echo  \n26                               log user out of echo  \n27                        Disconnect and message user  \n28                                          No Action  \n2023-12-02 16:04:48.089600\nIndex(['IOT Connection ID', 'Prediction', 'ID', 'TimeStamp', 'County',\n       'Device IP', 'Device Type', 'Malware Attack Attempt',\n       'Recommended Action'],\n      dtype='object')\n                    TimeStamp   IOT Connection ID  ID      County  \\\n0  2023-12-02 16:04:39.299325  C656YD2TqZazmCySNe  46      Carver   \n1  2023-12-02 16:04:39.299743  COw1bC4rVHzw5SjqS8  79      Ramsey   \n2  2023-12-02 16:04:39.300078   CLU5zk4m7xRPVamzp  71  Washington   \n3  2023-12-02 16:04:39.300967  CDcMlk2RbJ5mBmOGOb  72      Wright   \n4  2023-12-02 16:04:39.301465  Co6tr44hTakRFGmve7  67      Isanti   \n5  2023-12-02 16:04:39.301845  CsY0wK2W28YxIxA7Td  75     Chisago   \n6  2023-12-02 16:04:39.302205  CWZwBr3e7PEdcjQ047  58       Scott   \n7  2023-12-02 16:04:39.302534   CqZ9WP3LWmxKQtXZ3  55    Hennepin   \n8  2023-12-02 16:04:39.302950  Cf2llj1vk5kImgnlJi  82  Washington   \n9  2023-12-02 16:04:39.303309  CNRaQS1qAUGftcX0o1  30       Scott   \n10 2023-12-02 16:04:39.303635   CzJpKd4e6aFNX9dbh  74      Carver   \n11 2023-12-02 16:04:39.304106   CfgVwrSLXOYWOC0hd  84       Anoka   \n12 2023-12-02 16:04:39.304483   CcdANZM05DkOYp4ki  19       Scott   \n13 2023-12-02 16:04:39.304883  C6UONH2r9mot9OqB6c  80       Scott   \n14 2023-12-02 16:04:39.305330   CH0m0scOUhNXenri7  57      Ramsey   \n15 2023-12-02 16:04:39.305696  C8pHO02dDjcazPQvUd  99    Hennepin   \n16 2023-12-02 16:04:39.306072  CLDHyB1amzWYKwXcW3  52      Carver   \n17 2023-12-02 16:04:39.306407  C1hq0V2JLb0yGV9jA2  36     Chisago   \n18 2023-12-02 16:04:39.306778  CKBTil15EtSeX8lOXa  98      Dakota   \n19 2023-12-02 16:04:39.307180  CaDsf7419oxQTJVNf3  35      Carver   \n20 2023-12-02 16:04:39.307519  C4thZD4rDMcwUzqqKa  75     Chisago   \n21 2023-12-02 16:04:39.307874   CcFXLynukEDnUlvgl  45       Anoka   \n\n\n*** WARNING: max output size exceeded, skipping output. ***\n\n                  Yes   \n27   182.193.85.174   Smart Fridge                    Yes   \n28   254.170.228.64   Smart Fridge                     No   \n\n                                   Recommended Action  \n0                                           No Action  \n1                         Disconnect and message user  \n2   Notify security team, user, disable unlock att...  \n3                                log user out of echo  \n4                         Disconnect and message user  \n5                                log user out of echo  \n6                         Disconnect and message user  \n7                         Disconnect and message user  \n8                         Disconnect and message user  \n9                                           No Action  \n10  Notify security team, user, disable unlock att...  \n11                               log user out of echo  \n12                                          No Action  \n13  Notify security team, user, disable unlock att...  \n14                               log user out of echo  \n15                               log user out of echo  \n16                        Disconnect and message user  \n17                                          No Action  \n18  Notify security team, user, disable unlock att...  \n19                                          No Action  \n20                               log user out of echo  \n21                                          No Action  \n22                                          No Action  \n23                               log user out of echo  \n24                                          No Action  \n25                               log user out of echo  \n26                               log user out of echo  \n27                        Disconnect and message user  \n28                                          No Action  \n2023-12-02 16:04:59.180648\nIndex(['IOT Connection ID', 'Prediction', 'ID', 'TimeStamp', 'County',\n       'Device IP', 'Device Type', 'Malware Attack Attempt',\n       'Recommended Action'],\n      dtype='object')\n                    TimeStamp   IOT Connection ID  ID      County  \\\n0  2023-12-02 16:04:39.299325  C656YD2TqZazmCySNe  46      Carver   \n1  2023-12-02 16:04:39.299743  COw1bC4rVHzw5SjqS8  79      Ramsey   \n2  2023-12-02 16:04:39.300078   CLU5zk4m7xRPVamzp  71  Washington   \n3  2023-12-02 16:04:39.300967  CDcMlk2RbJ5mBmOGOb  72      Wright   \n4  2023-12-02 16:04:39.301465  Co6tr44hTakRFGmve7  67      Isanti   \n5  2023-12-02 16:04:39.301845  CsY0wK2W28YxIxA7Td  75     Chisago   \n6  2023-12-02 16:04:39.302205  CWZwBr3e7PEdcjQ047  58       Scott   \n7  2023-12-02 16:04:39.302534   CqZ9WP3LWmxKQtXZ3  55    Hennepin   \n8  2023-12-02 16:04:39.302950  Cf2llj1vk5kImgnlJi  82  Washington   \n9  2023-12-02 16:04:39.303309  CNRaQS1qAUGftcX0o1  30       Scott   \n10 2023-12-02 16:04:39.303635   CzJpKd4e6aFNX9dbh  74      Carver   \n11 2023-12-02 16:04:39.304106   CfgVwrSLXOYWOC0hd  84       Anoka   \n12 2023-12-02 16:04:39.304483   CcdANZM05DkOYp4ki  19       Scott   \n13 2023-12-02 16:04:39.304883  C6UONH2r9mot9OqB6c  80       Scott   \n14 2023-12-02 16:04:39.305330   CH0m0scOUhNXenri7  57      Ramsey   \n15 2023-12-02 16:04:39.305696  C8pHO02dDjcazPQvUd  99    Hennepin   \n16 2023-12-02 16:04:39.306072  CLDHyB1amzWYKwXcW3  52      Carver   \n17 2023-12-02 16:04:39.306407  C1hq0V2JLb0yGV9jA2  36     Chisago   \n18 2023-12-02 16:04:39.306778  CKBTil15EtSeX8lOXa  98      Dakota   \n19 2023-12-02 16:04:39.307180  CaDsf7419oxQTJVNf3  35      Carver   \n20 2023-12-02 16:04:39.307519  C4thZD4rDMcwUzqqKa  75     Chisago   \n21 2023-12-02 16:04:39.307874   CcFXLynukEDnUlvgl  45       Anoka   \n22 2023-12-02 16:04:39.308275  COBmWn4lWXQr0kggJ9  29      Ramsey   \n23 2023-12-02 16:04:39.308688   CdUo9mRcuMlE0TaO3  72      Wright   \n24 2023-12-02 16:04:39.309043  CeYEuy4iXpZY1GST62  23       Anoka   \n25 2023-12-02 16:04:39.309458   CMsvMk2kq1V7L2J6D  66    Hennepin   \n26 2023-12-02 16:04:39.310665  Cwx9Wx1VgP62slQHal  84       Anoka   \n27 2023-12-02 16:04:39.311012  C70eKn2S0Dod9MOBr3  85      Carver   \n28 2023-12-02 16:04:39.311382  C69hsC2TWuh0jbJTq3  44      Wright   \n\n          Device IP    Device Type Malware Attack Attempt  \\\n0    36.142.242.120    Echo device                     No   \n1     78.45.140.146   Smart Fridge                    Yes   \n2    211.20.180.177  IOT Home Lock                    Yes   \n3    142.220.10.166    Echo device                    Yes   \n4       105.73.67.8   Smart Fridge                    Yes   \n5   112.170.166.157    Echo device                    Yes   \n6     179.128.75.67   Smart Fridge                    Yes   \n7   176.177.175.133   Smart Fridge                    Yes   \n8    21.162.217.119   Smart Fridge                    Yes   \n9   226.217.221.127  IOT Home Lock                     No   \n10   139.192.181.97  IOT Home Lock                    Yes   \n11  116.230.188.232    Echo device                    Yes   \n12      8.102.24.81    Echo device                     No   \n13  226.217.221.127  IOT Home Lock                    Yes   \n14     227.142.5.69    Echo device                    Yes   \n15   80.125.208.250    Echo device                    Yes   \n16   115.191.154.74   Smart Fridge                    Yes   \n17   131.84.192.130  IOT Home Lock                     No   \n18    85.208.170.19  IOT Home Lock                    Yes   \n19   182.193.85.174   Smart Fridge                     No   \n20  112.170.166.157    Echo device                    Yes   \n21      230.6.38.61  IOT Home Lock                     No   \n22    78.45.140.146   Smart Fridge                     No   \n23   142.220.10.166    Echo device                    Yes   \n24   181.227.79.205   Smart Fridge                     No   \n25     174.6.24.255    Echo device                    Yes   \n26  116.230.188.232    Echo device                    Yes   \n27   182.193.85.174   Smart Fridge                    Yes   \n28   254.170.228.64   Smart Fridge                     No   \n\n                                   Recommended Action  \n0                                           No Action  \n1                         Disconnect and message user  \n2   Notify security team, user, disable unlock att...  \n3                                log user out of echo  \n4                         Disconnect and message user  \n5                                log user out of echo  \n6                         Disconnect and message user  \n7                         Disconnect and message user  \n8                         Disconnect and message user  \n9                                           No Action  \n10  Notify security team, user, disable unlock att...  \n11                               log user out of echo  \n12                                          No Action  \n13  Notify security team, user, disable unlock att...  \n14                               log user out of echo  \n15                               log user out of echo  \n16                        Disconnect and message user  \n17                                          No Action  \n18  Notify security team, user, disable unlock att...  \n19                                          No Action  \n20                               log user out of echo  \n21                                          No Action  \n22                                          No Action  \n23                               log user out of echo  \n24                                          No Action  \n25                               log user out of echo  \n26                               log user out of echo  \n27                        Disconnect and message user  \n28                                          No Action  \n2023-12-02 16:05:01.365457\nIndex(['IOT Connection ID', 'Prediction', 'ID', 'TimeStamp', 'County',\n       'Device IP', 'Device Type', 'Malware Attack Attempt',\n       'Recommended Action'],\n      dtype='object')\n                    TimeStamp   IOT Connection ID  ID      County  \\\n0  2023-12-02 16:04:39.299325  C656YD2TqZazmCySNe  46      Carver   \n1  2023-12-02 16:04:39.299743  COw1bC4rVHzw5SjqS8  79      Ramsey   \n2  2023-12-02 16:04:39.300078   CLU5zk4m7xRPVamzp  71  Washington   \n3  2023-12-02 16:04:39.300967  CDcMlk2RbJ5mBmOGOb  72      Wright   \n4  2023-12-02 16:04:39.301465  Co6tr44hTakRFGmve7  67      Isanti   \n5  2023-12-02 16:04:39.301845  CsY0wK2W28YxIxA7Td  75     Chisago   \n6  2023-12-02 16:04:39.302205  CWZwBr3e7PEdcjQ047  58       Scott   \n7  2023-12-02 16:04:39.302534   CqZ9WP3LWmxKQtXZ3  55    Hennepin   \n8  2023-12-02 16:04:39.302950  Cf2llj1vk5kImgnlJi  82  Washington   \n9  2023-12-02 16:04:39.303309  CNRaQS1qAUGftcX0o1  30       Scott   \n10 2023-12-02 16:04:39.303635   CzJpKd4e6aFNX9dbh  74      Carver   \n11 2023-12-02 16:04:39.304106   CfgVwrSLXOYWOC0hd  84       Anoka   \n12 2023-12-02 16:04:39.304483   CcdANZM05DkOYp4ki  19       Scott   \n13 2023-12-02 16:04:39.304883  C6UONH2r9mot9OqB6c  80       Scott   \n14 2023-12-02 16:04:39.305330   CH0m0scOUhNXenri7  57      Ramsey   \n15 2023-12-02 16:04:39.305696  C8pHO02dDjcazPQvUd  99    Hennepin   \n16 2023-12-02 16:04:39.306072  CLDHyB1amzWYKwXcW3  52      Carver   \n17 2023-12-02 16:04:39.306407  C1hq0V2JLb0yGV9jA2  36     Chisago   \n18 2023-12-02 16:04:39.306778  CKBTil15EtSeX8lOXa  98      Dakota   \n19 2023-12-02 16:04:39.307180  CaDsf7419oxQTJVNf3  35      Carver   \n20 2023-12-02 16:04:39.307519  C4thZD4rDMcwUzqqKa  75     Chisago   \n21 2023-12-02 16:04:39.307874   CcFXLynukEDnUlvgl  45       Anoka   \n22 2023-12-02 16:04:39.308275  COBmWn4lWXQr0kggJ9  29      Ramsey   \n23 2023-12-02 16:04:39.308688   CdUo9mRcuMlE0TaO3  72      Wright   \n24 2023-12-02 16:04:39.309043  CeYEuy4iXpZY1GST62  23       Anoka   \n25 2023-12-02 16:04:39.309458   CMsvMk2kq1V7L2J6D  66    Hennepin   \n26 2023-12-02 16:04:39.310665  Cwx9Wx1VgP62slQHal  84       Anoka   \n27 2023-12-02 16:04:39.311012  C70eKn2S0Dod9MOBr3  85      Carver   \n28 2023-12-02 16:04:39.311382  C69hsC2TWuh0jbJTq3  44      Wright   \n\n          Device IP    Device Type Malware Attack Attempt  \\\n0    36.142.242.120    Echo device                     No   \n1     78.45.140.146   Smart Fridge                    Yes   \n2    211.20.180.177  IOT Home Lock                    Yes   \n3    142.220.10.166    Echo device                    Yes   \n4       105.73.67.8   Smart Fridge                    Yes   \n5   112.170.166.157    Echo device                    Yes   \n6     179.128.75.67   Smart Fridge                    Yes   \n7   176.177.175.133   Smart Fridge                    Yes   \n8    21.162.217.119   Smart Fridge                    Yes   \n9   226.217.221.127  IOT Home Lock                     No   \n10   139.192.181.97  IOT Home Lock                    Yes   \n11  116.230.188.232    Echo device                    Yes   \n12      8.102.24.81    Echo device                     No   \n13  226.217.221.127  IOT Home Lock                    Yes   \n14     227.142.5.69    Echo device                    Yes   \n15   80.125.208.250    Echo device                    Yes   \n16   115.191.154.74   Smart Fridge                    Yes   \n17   131.84.192.130  IOT Home Lock                     No   \n18    85.208.170.19  IOT Home Lock                    Yes   \n19   182.193.85.174   Smart Fridge                     No   \n20  112.170.166.157    Echo device                    Yes   \n21      230.6.38.61  IOT Home Lock                     No   \n22    78.45.140.146   Smart Fridge                     No   \n23   142.220.10.166    Echo device                    Yes   \n24   181.227.79.205   Smart Fridge                     No   \n25     174.6.24.255    Echo device                    Yes   \n26  116.230.188.232    Echo device                    Yes   \n27   182.193.85.174   Smart Fridge                    Yes   \n28   254.170.228.64   Smart Fridge                     No   \n\n                                   Recommended Action  \n0                                           No Action  \n1                         Disconnect and message user  \n2   Notify security team, user, disable unlock att...  \n3                                log user out of echo  \n4                         Disconnect and message user  \n5                                log user out of echo  \n6                         Disconnect and message user  \n7                         Disconnect and message user  \n8                         Disconnect and message user  \n9                                           No Action  \n10  Notify security team, user, disable unlock att...  \n11                               log user out of echo  \n12                                          No Action  \n13  Notify security team, user, disable unlock att...  \n14                               log user out of echo  \n15                               log user out of echo  \n16                        Disconnect and message user  \n17                                          No Action  \n18  Notify security team, user, disable unlock att...  \n19                                          No Action  \n20                               log user out of echo  \n21                                          No Action  \n22                                          No Action  \n23                               log user out of echo  \n24                                          No Action  \n25                               log user out of echo  \n26                               log user out of echo  \n27                        Disconnect and message user  \n28                                          No Action  \n2023-12-02 16:05:03.589218\nIndex(['IOT Connection ID', 'Prediction', 'ID', 'TimeStamp', 'County',\n       'Device IP', 'Device Type', 'Malware Attack Attempt',\n       'Recommended Action'],\n      dtype='object')\n                    TimeStamp   IOT Connection ID  ID      County  \\\n0  2023-12-02 16:04:39.299325  C656YD2TqZazmCySNe  46      Carver   \n1  2023-12-02 16:04:39.299743  COw1bC4rVHzw5SjqS8  79      Ramsey   \n2  2023-12-02 16:04:39.300078   CLU5zk4m7xRPVamzp  71  Washington   \n3  2023-12-02 16:04:39.300967  CDcMlk2RbJ5mBmOGOb  72      Wright   \n4  2023-12-02 16:04:39.301465  Co6tr44hTakRFGmve7  67      Isanti   \n5  2023-12-02 16:04:39.301845  CsY0wK2W28YxIxA7Td  75     Chisago   \n6  2023-12-02 16:04:39.302205  CWZwBr3e7PEdcjQ047  58       Scott   \n7  2023-12-02 16:04:39.302534   CqZ9WP3LWmxKQtXZ3  55    Hennepin   \n8  2023-12-02 16:04:39.302950  Cf2llj1vk5kImgnlJi  82  Washington   \n9  2023-12-02 16:04:39.303309  CNRaQS1qAUGftcX0o1  30       Scott   \n10 2023-12-02 16:04:39.303635   CzJpKd4e6aFNX9dbh  74      Carver   \n11 2023-12-02 16:04:39.304106   CfgVwrSLXOYWOC0hd  84       Anoka   \n12 2023-12-02 16:04:39.304483   CcdANZM05DkOYp4ki  19       Scott   \n13 2023-12-02 16:04:39.304883  C6UONH2r9mot9OqB6c  80       Scott   \n14 2023-12-02 16:04:39.305330   CH0m0scOUhNXenri7  57      Ramsey   \n15 2023-12-02 16:04:39.305696  C8pHO02dDjcazPQvUd  99    Hennepin   \n16 2023-12-02 16:04:39.306072  CLDHyB1amzWYKwXcW3  52      Carver   \n17 2023-12-02 16:04:39.306407  C1hq0V2JLb0yGV9jA2  36     Chisago   \n18 2023-12-02 16:04:39.306778  CKBTil15EtSeX8lOXa  98      Dakota   \n19 2023-12-02 16:04:39.307180  CaDsf7419oxQTJVNf3  35      Carver   \n20 2023-12-02 16:04:39.307519  C4thZD4rDMcwUzqqKa  75     Chisago   \n21 2023-12-02 16:04:39.307874   CcFXLynukEDnUlvgl  45       Anoka   \n22 2023-12-02 16:04:39.308275  COBmWn4lWXQr0kggJ9  29      Ramsey   \n23 2023-12-02 16:04:39.308688   CdUo9mRcuMlE0TaO3  72      Wright   \n24 2023-12-02 16:04:39.309043  CeYEuy4iXpZY1GST62  23       Anoka   \n25 2023-12-02 16:04:39.309458   CMsvMk2kq1V7L2J6D  66    Hennepin   \n26 2023-12-02 16:04:39.310665  Cwx9Wx1VgP62slQHal  84       Anoka   \n27 2023-12-02 16:04:39.311012  C70eKn2S0Dod9MOBr3  85      Carver   \n28 2023-12-02 16:04:39.311382  C69hsC2TWuh0jbJTq3  44      Wright   \n\n          Device IP    Device Type Malware Attack Attempt  \\\n0    36.142.242.120    Echo device                     No   \n1     78.45.140.146   Smart Fridge                    Yes   \n2    211.20.180.177  IOT Home Lock                    Yes   \n3    142.220.10.166    Echo device                    Yes   \n4       105.73.67.8   Smart Fridge                    Yes   \n5   112.170.166.157    Echo device                    Yes   \n6     179.128.75.67   Smart Fridge                    Yes   \n7   176.177.175.133   Smart Fridge                    Yes   \n8    21.162.217.119   Smart Fridge                    Yes   \n9   226.217.221.127  IOT Home Lock                     No   \n10   139.192.181.97  IOT Home Lock                    Yes   \n11  116.230.188.232    Echo device                    Yes   \n12      8.102.24.81    Echo device                     No   \n13  226.217.221.127  IOT Home Lock                    Yes   \n14     227.142.5.69    Echo device                    Yes   \n15   80.125.208.250    Echo device                    Yes   \n16   115.191.154.74   Smart Fridge                    Yes   \n17   131.84.192.130  IOT Home Lock                     No   \n18    85.208.170.19  IOT Home Lock                    Yes   \n19   182.193.85.174   Smart Fridge                     No   \n20  112.170.166.157    Echo device                    Yes   \n21      230.6.38.61  IOT Home Lock                     No   \n22    78.45.140.146   Smart Fridge                     No   \n23   142.220.10.166    Echo device                    Yes   \n24   181.227.79.205   Smart Fridge                     No   \n25     174.6.24.255    Echo device                    Yes   \n26  116.230.188.232    Echo device                    Yes   \n27   182.193.85.174   Smart Fridge                    Yes   \n28   254.170.228.64   Smart Fridge                     No   \n\n                                   Recommended Action  \n0                                           No Action  \n1                         Disconnect and message user  \n2   Notify security team, user, disable unlock att...  \n3                                log user out of echo  \n4                         Disconnect and message user  \n5                                log user out of echo  \n6                         Disconnect and message user  \n7                         Disconnect and message user  \n8                         Disconnect and message user  \n9                                           No Action  \n10  Notify security team, user, disable unlock att...  \n11                               log user out of echo  \n12                                          No Action  \n13  Notify security team, user, disable unlock att...  \n14                               log user out of echo  \n15                               log user out of echo  \n16                        Disconnect and message user  \n17                                          No Action  \n18  Notify security team, user, disable unlock att...  \n19                                          No Action  \n20                               log user out of echo  \n21                                          No Action  \n22                                          No Action  \n23                               log user out of echo  \n24                                          No Action  \n25                               log user out of echo  \n26                               log user out of echo  \n27                        Disconnect and message user  \n28                                          No Action  \n2023-12-02 16:05:05.811266\nIndex(['IOT Connection ID', 'Prediction', 'ID', 'TimeStamp', 'County',\n       'Device IP', 'Device Type', 'Malware Attack Attempt',\n       'Recommended Action'],\n      dtype='object')\n                    TimeStamp   IOT Connection ID  ID      County  \\\n0  2023-12-02 16:04:39.299325  C656YD2TqZazmCySNe  46      Carver   \n1  2023-12-02 16:04:39.299743  COw1bC4rVHzw5SjqS8  79      Ramsey   \n2  2023-12-02 16:04:39.300078   CLU5zk4m7xRPVamzp  71  Washington   \n3  2023-12-02 16:04:39.300967  CDcMlk2RbJ5mBmOGOb  72      Wright   \n4  2023-12-02 16:04:39.301465  Co6tr44hTakRFGmve7  67      Isanti   \n5  2023-12-02 16:04:39.301845  CsY0wK2W28YxIxA7Td  75     Chisago   \n6  2023-12-02 16:04:39.302205  CWZwBr3e7PEdcjQ047  58       Scott   \n7  2023-12-02 16:04:39.302534   CqZ9WP3LWmxKQtXZ3  55    Hennepin   \n8  2023-12-02 16:04:39.302950  Cf2llj1vk5kImgnlJi  82  Washington   \n9  2023-12-02 16:04:39.303309  CNRaQS1qAUGftcX0o1  30       Scott   \n10 2023-12-02 16:04:39.303635   CzJpKd4e6aFNX9dbh  74      Carver   \n11 2023-12-02 16:04:39.304106   CfgVwrSLXOYWOC0hd  84       Anoka   \n12 2023-12-02 16:04:39.304483   CcdANZM05DkOYp4ki  19       Scott   \n13 2023-12-02 16:04:39.304883  C6UONH2r9mot9OqB6c  80       Scott   \n14 2023-12-02 16:04:39.305330   CH0m0scOUhNXenri7  57      Ramsey   \n15 2023-12-02 16:04:39.305696  C8pHO02dDjcazPQvUd  99    Hennepin   \n16 2023-12-02 16:04:39.306072  CLDHyB1amzWYKwXcW3  52      Carver   \n17 2023-12-02 16:04:39.306407  C1hq0V2JLb0yGV9jA2  36     Chisago   \n18 2023-12-02 16:04:39.306778  CKBTil15EtSeX8lOXa  98      Dakota   \n19 2023-12-02 16:04:39.307180  CaDsf7419oxQTJVNf3  35      Carver   \n20 2023-12-02 16:04:39.307519  C4thZD4rDMcwUzqqKa  75     Chisago   \n21 2023-12-02 16:04:39.307874   CcFXLynukEDnUlvgl  45       Anoka   \n22 2023-12-02 16:04:39.308275  COBmWn4lWXQr0kggJ9  29      Ramsey   \n23 2023-12-02 16:04:39.308688   CdUo9mRcuMlE0TaO3  72      Wright   \n24 2023-12-02 16:04:39.309043  CeYEuy4iXpZY1GST62  23       Anoka   \n25 2023-12-02 16:04:39.309458   CMsvMk2kq1V7L2J6D  66    Hennepin   \n26 2023-12-02 16:04:39.310665  Cwx9Wx1VgP62slQHal  84       Anoka   \n27 2023-12-02 16:04:39.311012  C70eKn2S0Dod9MOBr3  85      Carver   \n28 2023-12-02 16:04:39.311382  C69hsC2TWuh0jbJTq3  44      Wright   \n\n          Device IP    Device Type Malware Attack Attempt  \\\n0    36.142.242.120    Echo device                     No   \n1     78.45.140.146   Smart Fridge                    Yes   \n2    211.20.180.177  IOT Home Lock                    Yes   \n3    142.220.10.166    Echo device                    Yes   \n4       105.73.67.8   Smart Fridge                    Yes   \n5   112.170.166.157    Echo device                    Yes   \n6     179.128.75.67   Smart Fridge                    Yes   \n7   176.177.175.133   Smart Fridge                    Yes   \n8    21.162.217.119   Smart Fridge                    Yes   \n9   226.217.221.127  IOT Home Lock                     No   \n10   139.192.181.97  IOT Home Lock                    Yes   \n11  116.230.188.232    Echo device                    Yes   \n12      8.102.24.81    Echo device                     No   \n13  226.217.221.127  IOT Home Lock                    Yes   \n14     227.142.5.69    Echo device                    Yes   \n15   80.125.208.250    Echo device                    Yes   \n16   115.191.154.74   Smart Fridge                    Yes   \n17   131.84.192.130  IOT Home Lock                     No   \n18    85.208.170.19  IOT Home Lock                    Yes   \n19   182.193.85.174   Smart Fridge                     No   \n20  112.170.166.157    Echo device                    Yes   \n21      230.6.38.61  IOT Home Lock                     No   \n22    78.45.140.146   Smart Fridge                     No   \n23   142.220.10.166    Echo device                    Yes   \n24   181.227.79.205   Smart Fridge                     No   \n25     174.6.24.255    Echo device                    Yes   \n26  116.230.188.232    Echo device                    Yes   \n27   182.193.85.174   Smart Fridge                    Yes   \n28   254.170.228.64   Smart Fridge                     No   \n\n                                   Recommended Action  \n0                                           No Action  \n1                         Disconnect and message user  \n2   Notify security team, user, disable unlock att...  \n3                                log user out of echo  \n4                         Disconnect and message user  \n5                                log user out of echo  \n6                         Disconnect and message user  \n7                         Disconnect and message user  \n8                         Disconnect and message user  \n9                                           No Action  \n10  Notify security team, user, disable unlock att...  \n11                               log user out of echo  \n12                                          No Action  \n13  Notify security team, user, disable unlock att...  \n14                               log user out of echo  \n15                               log user out of echo  \n16                        Disconnect and message user  \n17                                          No Action  \n18  Notify security team, user, disable unlock att...  \n19                                          No Action  \n20                               log user out of echo  \n21                                          No Action  \n22                                          No Action  \n23                               log user out of echo  \n24                                          No Action  \n25                               log user out of echo  \n26                               log user out of echo  \n27                        Disconnect and message user  \n28                                          No Action  \n"
     ]
    },
    {
     "output_type": "display_data",
     "data": {
      "text/html": [
       "<style scoped>\n",
       "  .ansiout {\n",
       "    display: block;\n",
       "    unicode-bidi: embed;\n",
       "    white-space: pre-wrap;\n",
       "    word-wrap: break-word;\n",
       "    word-break: break-all;\n",
       "    font-family: \"Menlo\", \"Monaco\", \"Consolas\", \"Ubuntu Mono\", \"Source Code Pro\", monospace;\n",
       "    font-size: 13px;\n",
       "    color: #555;\n",
       "    margin-left: 4px;\n",
       "    line-height: 19px;\n",
       "  }\n",
       "</style>"
      ]
     },
     "metadata": {
      "application/vnd.databricks.v1+output": {
       "arguments": {},
       "data": "",
       "errorSummary": "Cancelled",
       "errorTraceType": "html",
       "metadata": {},
       "type": "ipynbError"
      }
     },
     "output_type": "display_data"
    }
   ],
   "source": [
    "\n",
    "existing_data = \"none\"\n",
    "while True:\n",
    "  print(datetime.now())\n",
    "  temp_df = spark.sql(\"select uid, prediction from predictions\").toPandas()\n",
    "  if len(temp_df) > 1:\n",
    "    new_column_names = {'uid': 'IOT Connection ID', 'prediction': 'Prediction'}\n",
    "    temp_df.rename(columns=new_column_names, inplace=True)\n",
    "    replacement_mapping = {1: 'Malicious', 0: 'Benign'}\n",
    "    temp_df['Prediction'] = temp_df['Prediction'].replace(replacement_mapping)\n",
    "    output = prediction_processor(temp_df, existing_data)\n",
    "    existing_data = output.copy()\n",
    "    output.to_csv(r\"/databricks/driver/PredictionData/PredictionData.csv\")\n",
    "    print(output)\n",
    "  time.sleep(2)"
   ]
  }
 ],
 "metadata": {
  "application/vnd.databricks.v1+notebook": {
   "dashboards": [],
   "language": "python",
   "notebookMetadata": {
    "mostRecentlyExecutedCommandWithImplicitDF": {
     "commandId": 1593793815709350,
     "dataframes": [
      "_sqldf"
     ]
    },
    "pythonIndentUnit": 4
   },
   "notebookName": "Final_Application",
   "widgets": {}
  }
 },
 "nbformat": 4,
 "nbformat_minor": 0
}
